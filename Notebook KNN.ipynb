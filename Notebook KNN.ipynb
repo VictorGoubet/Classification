{
 "cells": [
  {
   "cell_type": "markdown",
   "metadata": {},
   "source": [
    "\n",
    "\n",
    "\n",
    "# <center> Classification KNN</center>\n",
    "*Goubet Victor<br>\n",
    "Graff Thomas*<br>\n",
    "TD D"
   ]
  },
  {
   "cell_type": "markdown",
   "metadata": {},
   "source": [
    "\n",
    "### Prepatation des données\n",
    "On commence par importer les librairies necessaires :"
   ]
  },
  {
   "cell_type": "code",
   "execution_count": 235,
   "metadata": {},
   "outputs": [],
   "source": [
    "import pandas as pd\n",
    "from sklearn import model_selection\n",
    "from sklearn.metrics import confusion_matrix\n",
    "import numpy as np\n",
    "import matplotlib.pyplot as plt"
   ]
  },
  {
   "cell_type": "markdown",
   "metadata": {},
   "source": [
    "On importe les données :"
   ]
  },
  {
   "cell_type": "code",
   "execution_count": 236,
   "metadata": {},
   "outputs": [],
   "source": [
    "data= pd.read_csv('data.csv',sep=';')"
   ]
  },
  {
   "cell_type": "markdown",
   "metadata": {},
   "source": [
    "Ici on stock dans le vecteur X les colonnes correspondant aux classe et dans \n",
    "Y celles correspondant aux etiquettes"
   ]
  },
  {
   "cell_type": "code",
   "execution_count": 237,
   "metadata": {},
   "outputs": [],
   "source": [
    "entete=data.columns[:-1]\n",
    "X=data[entete].values\n",
    "Y=data[data.columns[-1]].to_numpy()\n",
    "labels_Class=np.unique(Y)"
   ]
  },
  {
   "cell_type": "markdown",
   "metadata": {},
   "source": [
    "On utilise le module Sklearn pour séparer nos donner en un jeux d'entrainement et un autre de test. <br>\n",
    "La separation est plus efficace car il procéde à un mélange alétoire avant de séparer les données"
   ]
  },
  {
   "cell_type": "code",
   "execution_count": 260,
   "metadata": {},
   "outputs": [
    {
     "name": "stdout",
     "output_type": "stream",
     "text": [
      "(2301, 4)\n"
     ]
    }
   ],
   "source": [
    "X_train, X_test, Y_train, Y_test = model_selection.train_test_split(X, Y,test_size=0.2,random_state=5485)\n",
    "#On fixe le random state afin d'avoir toujours la même distribution aléatoire\n",
    "print(X_train.shape)"
   ]
  },
  {
   "cell_type": "markdown",
   "metadata": {},
   "source": [
    "### Definition du Model"
   ]
  },
  {
   "cell_type": "code",
   "execution_count": 265,
   "metadata": {},
   "outputs": [],
   "source": [
    "class KNN:\n",
    "    \n",
    "    def __init__(self,k=1):\n",
    "        self.k=k\n",
    "        \n",
    "    def Train(self,X_train,Y_train):\n",
    "        self.X_train=X_train\n",
    "        self.Y_train=Y_train\n",
    "        \n",
    "    def Distance(self,ptTest,ptTrain):\n",
    "        #On commence par définir une fonction de calcul de distance. Ici on choisit la distance euclidienne\n",
    "        distance=0\n",
    "        for k in range(len(ptTrain)):\n",
    "            distance+=(ptTrain[k]-ptTest[k])**2\n",
    "        return np.sqrt(distance)\n",
    "    \n",
    "    \n",
    "    def GetLabel(self,instance):\n",
    "        #On definit la fonction GetLabel permettant de prédir l'étiquette d'une instance\n",
    "        distances=[self.Distance(instance,x) for x in self.X_train ]\n",
    "        indexes=np.argsort(distances)[:self.k]\n",
    "        Top_Neighbours=np.array([self.Y_train[i] for i in indexes])\n",
    "\n",
    "        return max(labels_Class,key=lambda x:np.sum(Top_Neighbours==x))\n",
    "\n",
    "    def GetLabels(self,X):\n",
    "        #On récupére ici le label de chaque instance\n",
    "        labels=[self.GetLabel(x) for x in X]\n",
    "        return np.array(labels)\n",
    "    \n",
    "    def Precision(self,X_test,Y_test,MC):\n",
    "        #On compare nos label estimés aux réel labels et on en déduit une precision\n",
    "        labels=self.GetLabels(X_test)\n",
    "        precision=np.sum(labels==Y_test)/len(labels)*100\n",
    "        \n",
    "        if MC:\n",
    "            print(\"Matrice de confusion :\")\n",
    "            print(confusion_matrix(Y_test,labels))\n",
    "        \n",
    "        return precision"
   ]
  },
  {
   "cell_type": "markdown",
   "metadata": {},
   "source": [
    "### Test du model"
   ]
  },
  {
   "cell_type": "markdown",
   "metadata": {},
   "source": [
    "On test notre fonction avec le resultat labels utilisant k=5 <br> On affiche le pourcentage de precision et la matrice de confusion"
   ]
  },
  {
   "cell_type": "code",
   "execution_count": 266,
   "metadata": {},
   "outputs": [
    {
     "name": "stdout",
     "output_type": "stream",
     "text": [
      "Matrice de confusion :\n",
      "[[280   0   0   1   0   0   1   0   3   0]\n",
      " [  0  52   0   1   1   1   1   0   1   0]\n",
      " [  0   1  28   3   0   1   0   0   2   0]\n",
      " [  0   2   1  37   3   1   1   0   4   0]\n",
      " [  3   1   1   1  78   2   0   0   2   0]\n",
      " [  0   3   0   2   7   7   0   0   1   0]\n",
      " [  1   0   0   1   2   0   4   0   1   0]\n",
      " [  1   2   1   0   3   0   0   4   0   0]\n",
      " [  3   2   0   1   1   5   0   1   6   0]\n",
      " [  0   0   0   0   0   0   0   0   0   3]]\n"
     ]
    },
    {
     "data": {
      "text/plain": [
       "86.63194444444444"
      ]
     },
     "execution_count": 266,
     "metadata": {},
     "output_type": "execute_result"
    }
   ],
   "source": [
    "model=KNN(5)\n",
    "model.Train(X_train,Y_train)\n",
    "model.Precision(X_test,Y_test,True)"
   ]
  },
  {
   "cell_type": "markdown",
   "metadata": {},
   "source": [
    "### Optimisation du model"
   ]
  },
  {
   "cell_type": "markdown",
   "metadata": {},
   "source": [
    "Maintenant que notre modèle est construit et qu'il nous fournis des resultats acceptable, nous pouvons essayer de régler le paramètre k afin d'augmenter notre score.\n",
    "Pour cela on va séparer nos données non pas en deux mais en 3 sets. Un pour l'entrainement, un pour la validation (optimisation de k ) et un dernier pour le test final."
   ]
  },
  {
   "cell_type": "markdown",
   "metadata": {},
   "source": [
    "Cependant, plusieurs découpages de nos donnèes sont possibles pour choisir notre set de validation. On va donc utiliser la méthode de **cross validation** qui permet d'explorer tout les découpages possibles pour notre set et de retourner à chaque fois son score.<br>\n",
    "Ici on va utilise le découpage des **KFolds**"
   ]
  },
  {
   "cell_type": "code",
   "execution_count": 267,
   "metadata": {},
   "outputs": [],
   "source": [
    "def CrossValidation(k,X_train,Y_train,nFolds=5):\n",
    "    scoresValidation=[]\n",
    "    \n",
    "    model=KNN(k)\n",
    "    X_Splits=np.array_split(X_train,nFolds)\n",
    "    Y_Splits=np.array_split(Y_train,nFolds)\n",
    "\n",
    "    for i in range(nFolds):\n",
    "        print(\"\\nCalcul du fold n°(\",i+1,\"/\",nFolds,\")..\")\n",
    "        X_validation=X_Splits[i]\n",
    "        Y_validation=Y_Splits[i]\n",
    "        X_newTrain=np.concatenate(np.delete(X_Splits,i))\n",
    "        Y_newTrain=np.concatenate(np.delete(Y_Splits,i))\n",
    "        \n",
    "        model.Train(X_newTrain,Y_newTrain)\n",
    "        scoresValidation.append(model.Precision(X_validation,Y_validation,False))\n",
    "        \n",
    "    return np.array(scoresValidation)\n",
    "        \n",
    "        "
   ]
  },
  {
   "cell_type": "markdown",
   "metadata": {},
   "source": [
    "On peut maintenant tester notre methode pour k=5 et 5 folds"
   ]
  },
  {
   "cell_type": "code",
   "execution_count": 268,
   "metadata": {},
   "outputs": [
    {
     "name": "stdout",
     "output_type": "stream",
     "text": [
      "\n",
      "Calcul du fold n°( 1 / 5 )..\n",
      "\n",
      "Calcul du fold n°( 2 / 5 )..\n",
      "\n",
      "Calcul du fold n°( 3 / 5 )..\n",
      "\n",
      "Calcul du fold n°( 4 / 5 )..\n",
      "\n",
      "Calcul du fold n°( 5 / 5 )..\n",
      "\n",
      "Score sur le set de validation pour chaque fold :\n",
      " [83.73101952 86.52173913 86.73913043 85.65217391 88.26086957]\n",
      "\n",
      "Moyenne des scores: 86.18098651325097\n"
     ]
    }
   ],
   "source": [
    "scoresValidation=CrossValidation(5,X_train,Y_train)\n",
    "print(\"\\nScore sur le set de validation pour chaque fold :\\n\",scoresValidation)\n",
    "print(\"\\nMoyenne des scores:\",scoresValidation.mean())"
   ]
  },
  {
   "cell_type": "markdown",
   "metadata": {},
   "source": [
    "Nous sommes maintenant prêt à tester pour differents valeures de k <br> On va tracer le score sur le set de validation en fonction de k. "
   ]
  },
  {
   "cell_type": "code",
   "execution_count": 269,
   "metadata": {},
   "outputs": [
    {
     "name": "stdout",
     "output_type": "stream",
     "text": [
      "===========================Test k= 1 ==================================\n",
      "\n",
      "Calcul du fold n°( 1 / 5 )..\n",
      "\n",
      "Calcul du fold n°( 2 / 5 )..\n",
      "\n",
      "Calcul du fold n°( 3 / 5 )..\n",
      "\n",
      "Calcul du fold n°( 4 / 5 )..\n",
      "\n",
      "Calcul du fold n°( 5 / 5 )..\n",
      "\n",
      "→ Accuracy = 84.22437046119023\n",
      "===========================Test k= 2 ==================================\n",
      "\n",
      "Calcul du fold n°( 1 / 5 )..\n",
      "\n",
      "Calcul du fold n°( 2 / 5 )..\n",
      "\n",
      "Calcul du fold n°( 3 / 5 )..\n",
      "\n",
      "Calcul du fold n°( 4 / 5 )..\n",
      "\n",
      "Calcul du fold n°( 5 / 5 )..\n",
      "\n",
      "→ Accuracy = 83.61661793831934\n",
      "===========================Test k= 3 ==================================\n",
      "\n",
      "Calcul du fold n°( 1 / 5 )..\n",
      "\n",
      "Calcul du fold n°( 2 / 5 )..\n",
      "\n",
      "Calcul du fold n°( 3 / 5 )..\n",
      "\n",
      "Calcul du fold n°( 4 / 5 )..\n",
      "\n",
      "Calcul du fold n°( 5 / 5 )..\n",
      "\n",
      "→ Accuracy = 85.44204470432896\n",
      "===========================Test k= 4 ==================================\n",
      "\n",
      "Calcul du fold n°( 1 / 5 )..\n",
      "\n",
      "Calcul du fold n°( 2 / 5 )..\n",
      "\n",
      "Calcul du fold n°( 3 / 5 )..\n",
      "\n",
      "Calcul du fold n°( 4 / 5 )..\n",
      "\n",
      "Calcul du fold n°( 5 / 5 )..\n",
      "\n",
      "→ Accuracy = 85.52881260020749\n",
      "===========================Test k= 5 ==================================\n",
      "\n",
      "Calcul du fold n°( 1 / 5 )..\n",
      "\n",
      "Calcul du fold n°( 2 / 5 )..\n",
      "\n",
      "Calcul du fold n°( 3 / 5 )..\n",
      "\n",
      "Calcul du fold n°( 4 / 5 )..\n",
      "\n",
      "Calcul du fold n°( 5 / 5 )..\n",
      "\n",
      "→ Accuracy = 86.18098651325097\n",
      "===========================Test k= 6 ==================================\n",
      "\n",
      "Calcul du fold n°( 1 / 5 )..\n",
      "\n",
      "Calcul du fold n°( 2 / 5 )..\n",
      "\n",
      "Calcul du fold n°( 3 / 5 )..\n",
      "\n",
      "Calcul du fold n°( 4 / 5 )..\n",
      "\n",
      "Calcul du fold n°( 5 / 5 )..\n",
      "\n",
      "→ Accuracy = 85.74648684334622\n",
      "===========================Test k= 7 ==================================\n",
      "\n",
      "Calcul du fold n°( 1 / 5 )..\n",
      "\n",
      "Calcul du fold n°( 2 / 5 )..\n",
      "\n",
      "Calcul du fold n°( 3 / 5 )..\n",
      "\n",
      "Calcul du fold n°( 4 / 5 )..\n",
      "\n",
      "Calcul du fold n°( 5 / 5 )..\n",
      "\n",
      "→ Accuracy = 85.92011694803357\n",
      "===========================Test k= 8 ==================================\n",
      "\n",
      "Calcul du fold n°( 1 / 5 )..\n",
      "\n",
      "Calcul du fold n°( 2 / 5 )..\n",
      "\n",
      "Calcul du fold n°( 3 / 5 )..\n",
      "\n",
      "Calcul du fold n°( 4 / 5 )..\n",
      "\n",
      "Calcul du fold n°( 5 / 5 )..\n",
      "\n",
      "→ Accuracy = 85.83325473922476\n",
      "===========================Test k= 9 ==================================\n",
      "\n",
      "Calcul du fold n°( 1 / 5 )..\n",
      "\n",
      "Calcul du fold n°( 2 / 5 )..\n",
      "\n",
      "Calcul du fold n°( 3 / 5 )..\n",
      "\n",
      "Calcul du fold n°( 4 / 5 )..\n",
      "\n",
      "Calcul du fold n°( 5 / 5 )..\n",
      "\n",
      "→ Accuracy = 85.70263133075545\n",
      "===========================Test k= 10 ==================================\n",
      "\n",
      "Calcul du fold n°( 1 / 5 )..\n",
      "\n",
      "Calcul du fold n°( 2 / 5 )..\n",
      "\n",
      "Calcul du fold n°( 3 / 5 )..\n",
      "\n",
      "Calcul du fold n°( 4 / 5 )..\n",
      "\n",
      "Calcul du fold n°( 5 / 5 )..\n",
      "\n",
      "→ Accuracy = 85.35518249552014\n",
      "===========================Test k= 11 ==================================\n",
      "\n",
      "Calcul du fold n°( 1 / 5 )..\n",
      "\n",
      "Calcul du fold n°( 2 / 5 )..\n",
      "\n",
      "Calcul du fold n°( 3 / 5 )..\n",
      "\n",
      "Calcul du fold n°( 4 / 5 )..\n",
      "\n",
      "Calcul du fold n°( 5 / 5 )..\n",
      "\n",
      "→ Accuracy = 85.22474771291144\n",
      "===========================Test k= 12 ==================================\n",
      "\n",
      "Calcul du fold n°( 1 / 5 )..\n",
      "\n",
      "Calcul du fold n°( 2 / 5 )..\n",
      "\n",
      "Calcul du fold n°( 3 / 5 )..\n",
      "\n",
      "Calcul du fold n°( 4 / 5 )..\n",
      "\n",
      "Calcul du fold n°( 5 / 5 )..\n",
      "\n",
      "→ Accuracy = 85.05092898236349\n",
      "===========================Test k= 13 ==================================\n",
      "\n",
      "Calcul du fold n°( 1 / 5 )..\n",
      "\n",
      "Calcul du fold n°( 2 / 5 )..\n",
      "\n",
      "Calcul du fold n°( 3 / 5 )..\n",
      "\n",
      "Calcul du fold n°( 4 / 5 )..\n",
      "\n",
      "Calcul du fold n°( 5 / 5 )..\n",
      "\n",
      "→ Accuracy = 85.35518249552014\n",
      "===========================Test k= 14 ==================================\n",
      "\n",
      "Calcul du fold n°( 1 / 5 )..\n",
      "\n",
      "Calcul du fold n°( 2 / 5 )..\n",
      "\n",
      "Calcul du fold n°( 3 / 5 )..\n",
      "\n",
      "Calcul du fold n°( 4 / 5 )..\n",
      "\n",
      "Calcul du fold n°( 5 / 5 )..\n",
      "\n",
      "→ Accuracy = 85.00745072149392\n"
     ]
    }
   ],
   "source": [
    "scoresValidation=[]\n",
    "listeK=range(1,15)\n",
    "\n",
    "for k in listeK:\n",
    "    print(\"===========================Test k=\",k,\"==================================\")\n",
    "   \n",
    "    accuracy=CrossValidation(k,X_train,Y_train,5).mean()\n",
    "    scoresValidation.append(accuracy)\n",
    "    print(\"\\n→ Accuracy =\",accuracy)\n",
    "    "
   ]
  },
  {
   "cell_type": "code",
   "execution_count": 270,
   "metadata": {},
   "outputs": [
    {
     "data": {
      "image/png": "[encoded data removed]",
      "text/plain": [
       "<Figure size 432x288 with 1 Axes>"
      ]
     },
     "metadata": {
      "needs_background": "light"
     },
     "output_type": "display_data"
    }
   ],
   "source": [
    "plt.plot(listeK,scoresValidation)\n",
    "plt.title(\"Score en fonction de k\")\n",
    "plt.ylabel(\"Score\")\n",
    "plt.xlabel(\"K\")\n",
    "plt.grid()"
   ]
  },
  {
   "cell_type": "markdown",
   "metadata": {},
   "source": [
    "On peut voir ici que pour k=9  on a un score maximum. De plus on est sur ici que l'on est pas dans un cas de sur apprentissage car on test notre model sur un jeu inconnu. Pour verifier cela on aurait pu identifier les k qui menent à des cas de suraprentissage en disant que c'est ceux pour lesquels on a un grand score sur le training set un un faible score sur le set de verification\n",
    "### Test final"
   ]
  },
  {
   "cell_type": "code",
   "execution_count": 271,
   "metadata": {},
   "outputs": [
    {
     "name": "stdout",
     "output_type": "stream",
     "text": [
      "Matrice de confusion :\n",
      "[[280   0   0   1   0   0   1   0   3   0]\n",
      " [  0  52   0   1   1   1   1   0   1   0]\n",
      " [  0   1  28   3   0   1   0   0   2   0]\n",
      " [  0   2   1  37   3   1   1   0   4   0]\n",
      " [  3   1   1   1  78   2   0   0   2   0]\n",
      " [  0   3   0   2   7   7   0   0   1   0]\n",
      " [  1   0   0   1   2   0   4   0   1   0]\n",
      " [  1   2   1   0   3   0   0   4   0   0]\n",
      " [  3   2   0   1   1   5   0   1   6   0]\n",
      " [  0   0   0   0   0   0   0   0   0   3]]\n"
     ]
    },
    {
     "data": {
      "text/plain": [
       "86.63194444444444"
      ]
     },
     "execution_count": 271,
     "metadata": {},
     "output_type": "execute_result"
    }
   ],
   "source": [
    "model=KNN(5)\n",
    "model.Train(X_train,Y_train)\n",
    "model.Precision(X_test,Y_test,True)"
   ]
  },
  {
   "cell_type": "markdown",
   "metadata": {},
   "source": [
    "On obtient finalement un socre de **86.63**. On voit que l'on fait principalement des erreures su la colonne I."
   ]
  },
  {
   "cell_type": "markdown",
   "metadata": {},
   "source": [
    "### Enregistrement des labels\n",
    "On enregistre les labels dans un fichier texte"
   ]
  },
  {
   "cell_type": "code",
   "execution_count": 272,
   "metadata": {},
   "outputs": [],
   "source": [
    "def Save(labels):\n",
    "    with open(\"GOUBET_GRAFF.txt\",'w') as f:\n",
    "        for label in labels:\n",
    "            f.write(label+\"\\n\")"
   ]
  },
  {
   "cell_type": "code",
   "execution_count": 273,
   "metadata": {},
   "outputs": [],
   "source": [
    "labels=model.GetLabels(X_test)\n",
    "Save(labels)"
   ]
  },
  {
   "cell_type": "markdown",
   "metadata": {},
   "source": [
    "### Ameliorations\n",
    "\n",
    "Une première amélioration serait d'optimiser les calculs afins qu'ils soient plus rapides.<br>\n",
    "Une deuxième amélioration non nègligeable serait d'optimiser un deuxième hyper paramètre qui est le calcul de la distance en utilisant par exemple la distance manathane. Cependant cela reviendrait à chercher la solution dans une grille (distance en ligne et k en colonne) soit environs 3x20 possibilitées (3 types de distance et on test 15 k) ce qui prendrait enormement de temps avec une version non optimisée.<br> On revient donc à la première améliroation.."
   ]
  },
  {
   "cell_type": "markdown",
   "metadata": {},
   "source": [
    "## Comparaison avec le model de Sklearn\n",
    "\n",
    "### Comparaison avec optimisation de k"
   ]
  },
  {
   "cell_type": "code",
   "execution_count": 274,
   "metadata": {},
   "outputs": [],
   "source": [
    "from sklearn.model_selection  import validation_curve\n",
    "from sklearn.neighbors import KNeighborsClassifier"
   ]
  },
  {
   "cell_type": "markdown",
   "metadata": {},
   "source": [
    "On utilise ici le model fournit par le package et l'optimisation de k par cross validation"
   ]
  },
  {
   "cell_type": "code",
   "execution_count": 275,
   "metadata": {},
   "outputs": [],
   "source": [
    "model=KNeighborsClassifier()\n",
    "\n",
    "ScoreTrain,ScoreValidation=validation_curve(model,X_train,Y_train,'n_neighbors',listeK,cv=5)\n",
    "\n",
    "ScoreValidation_Mean=ScoreValidation.mean(axis=1)\n",
    "ScoreTrain_Mean=ScoreTrain.mean(axis=1)"
   ]
  },
  {
   "cell_type": "code",
   "execution_count": 276,
   "metadata": {
    "scrolled": true
   },
   "outputs": [
    {
     "data": {
      "image/png": "[encoded data removed]",
      "text/plain": [
       "<Figure size 432x288 with 1 Axes>"
      ]
     },
     "metadata": {
      "needs_background": "light"
     },
     "output_type": "display_data"
    }
   ],
   "source": [
    "plt.plot(listeK,ScoreValidation_Mean,label='Validation set')\n",
    "plt.plot(listeK,ScoreTrain_Mean,label='Training set')\n",
    "plt.legend()\n",
    "plt.title(\"Score en fonction de k\")\n",
    "plt.ylabel(\"Score\")\n",
    "plt.xlabel(\"K\")\n",
    "plt.ylim(0.85,0.9)\n",
    "plt.grid()\n",
    "plt.show()"
   ]
  },
  {
   "cell_type": "markdown",
   "metadata": {},
   "source": [
    "On peut voir ici que on obtient k=7"
   ]
  },
  {
   "cell_type": "markdown",
   "metadata": {},
   "source": [
    "\n",
    "\n",
    "### Comparaison avec GridSearch"
   ]
  },
  {
   "cell_type": "code",
   "execution_count": 277,
   "metadata": {},
   "outputs": [],
   "source": [
    "from sklearn.model_selection import GridSearchCV\n",
    "from sklearn import preprocessing"
   ]
  },
  {
   "cell_type": "code",
   "execution_count": 278,
   "metadata": {},
   "outputs": [
    {
     "name": "stdout",
     "output_type": "stream",
     "text": [
      "{'metric': 'euclidean', 'n_neighbors': 7}\n"
     ]
    }
   ],
   "source": [
    "#On normalise les donnèes afin de diminuer l'impact de donnèes eronnèes\n",
    "std_scale = preprocessing.StandardScaler().fit(X_train)\n",
    "X_train_std = std_scale.transform(X_train)\n",
    "X_test_std = std_scale.transform(X_test)\n",
    "\n",
    "parametres={'n_neighbors':listeK,'metric':['euclidean','manhattan','minkowski']}\n",
    "\n",
    "grid=GridSearchCV(KNeighborsClassifier(),parametres,cv=5)\n",
    "grid.fit(X_train_std,Y_train)\n",
    "print(grid.best_params_)"
   ]
  },
  {
   "cell_type": "markdown",
   "metadata": {},
   "source": [
    "On s'apercoit qu'ici la distance euclidienne est la meilleure et que k=7 est la meilleure option. On trouve donc un k du même ordre de grandeure que plus haut"
   ]
  },
  {
   "cell_type": "code",
   "execution_count": 279,
   "metadata": {},
   "outputs": [
    {
     "data": {
      "text/plain": [
       "0.8715277777777778"
      ]
     },
     "execution_count": 279,
     "metadata": {},
     "output_type": "execute_result"
    }
   ],
   "source": [
    "model=grid.best_estimator_\n",
    "model.score(X_test_std,Y_test)"
   ]
  },
  {
   "cell_type": "markdown",
   "metadata": {},
   "source": [
    "On obtient avec ce model une precision de **0.87** sur le set de test qui est proche de celui trouvé plus haut"
   ]
  }
 ],
 "metadata": {
  "kernelspec": {
   "display_name": "Python 3",
   "language": "python",
   "name": "python3"
  },
  "language_info": {
   "codemirror_mode": {
    "name": "ipython",
    "version": 3
   },
   "file_extension": ".py",
   "mimetype": "text/x-python",
   "name": "python",
   "nbconvert_exporter": "python",
   "pygments_lexer": "ipython3",
   "version": "3.7.7"
  }
 },
 "nbformat": 4,
 "nbformat_minor": 4
}
