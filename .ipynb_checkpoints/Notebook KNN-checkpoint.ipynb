{
 "cells": [
  {
   "cell_type": "markdown",
   "metadata": {},
   "source": [
    "\n",
    "\n",
    "\n",
    "# <center> Classification KNN</center>\n",
    "*Goubet Victor<br>\n",
    "Graff Thomas*<br>\n",
    "TD D"
   ]
  },
  {
   "cell_type": "markdown",
   "metadata": {},
   "source": [
    "# Partie I"
   ]
  },
  {
   "cell_type": "markdown",
   "metadata": {},
   "source": [
    "\n",
    "### Prepatation des données\n",
    "On commence par importer les librairies necessaires :"
   ]
  },
  {
   "cell_type": "code",
   "execution_count": 3,
   "metadata": {},
   "outputs": [],
   "source": [
    "import pandas as pd\n",
    "from sklearn import model_selection\n",
    "from sklearn.metrics import confusion_matrix\n",
    "import numpy as np\n",
    "import matplotlib.pyplot as plt"
   ]
  },
  {
   "cell_type": "markdown",
   "metadata": {},
   "source": [
    "On importe les données :"
   ]
  },
  {
   "cell_type": "code",
   "execution_count": 4,
   "metadata": {},
   "outputs": [],
   "source": [
    "data= pd.read_csv('data.csv',sep=';')"
   ]
  },
  {
   "cell_type": "markdown",
   "metadata": {},
   "source": [
    "Ici on stock dans le vecteur X les colonnes correspondant aux classe et dans \n",
    "Y celles correspondant aux etiquettes"
   ]
  },
  {
   "cell_type": "code",
   "execution_count": 5,
   "metadata": {},
   "outputs": [],
   "source": [
    "entete=data.columns[:-1]\n",
    "X=data[entete].values\n",
    "Y=data[data.columns[-1]].to_numpy()\n",
    "labels_Class=np.unique(Y)"
   ]
  },
  {
   "cell_type": "markdown",
   "metadata": {},
   "source": [
    "On utilise le module Sklearn pour séparer nos donner en un jeux d'entrainement et un autre de test. <br>\n",
    "La separation est plus efficace car il procéde à un mélange alétoire avant de séparer les données"
   ]
  },
  {
   "cell_type": "code",
   "execution_count": 6,
   "metadata": {},
   "outputs": [
    {
     "name": "stdout",
     "output_type": "stream",
     "text": [
      "(2301, 4)\n"
     ]
    }
   ],
   "source": [
    "X_train, X_test, Y_train, Y_test = model_selection.train_test_split(X, Y,test_size=0.2,random_state=4871)\n",
    "#On fixe le random state afin d'avoir toujours la même distribution aléatoire\n",
    "print(X_train.shape)"
   ]
  },
  {
   "cell_type": "markdown",
   "metadata": {},
   "source": [
    "### Definition du Model"
   ]
  },
  {
   "cell_type": "code",
   "execution_count": 27,
   "metadata": {},
   "outputs": [],
   "source": [
    "class KNN:\n",
    "    \n",
    "    def __init__(self,k=1):\n",
    "        self.k=k\n",
    "        \n",
    "    def Train(self,X_train,Y_train):\n",
    "        self.X_train=X_train\n",
    "        self.Y_train=Y_train\n",
    "        \n",
    "    def Distance(self,ptTest,ptTrain):\n",
    "        #On commence par définir une fonction de calcul de distance. Ici on choisit la distance euclidienne\n",
    "        distance=0\n",
    "        for k in range(len(ptTrain)):\n",
    "            distance+=(ptTrain[k]-ptTest[k])**2\n",
    "        return np.sqrt(distance)\n",
    "    \n",
    "    \n",
    "    def GetLabel(self,instance):\n",
    "        #On definit la fonction GetLabel permettant de prédir l'étiquette d'une instance\n",
    "        distances=[self.Distance(instance,x) for x in self.X_train ]\n",
    "        indexes=np.argsort(distances)[:self.k]\n",
    "        Top_Neighbours=np.array([self.Y_train[i] for i in indexes])\n",
    "\n",
    "        return max(labels_Class,key=lambda x:np.sum(Top_Neighbours==x))\n",
    "\n",
    "    def GetLabels(self,X):\n",
    "        #On récupére ici le label de chaque instance\n",
    "        labels=[self.GetLabel(x) for x in X]\n",
    "        return np.array(labels)\n",
    "    \n",
    "    def Precision(self,X_test,Y_test,MC):\n",
    "        #On compare nos label estimés aux réel labels et on en déduit une precision\n",
    "        labels=self.GetLabels(X_test)\n",
    "        precision=np.sum(labels==Y_test)/len(labels)*100\n",
    "        \n",
    "        if MC:\n",
    "            fig = plt.figure(figsize=(5,5))\n",
    "            ax = fig.add_subplot(111)\n",
    "            im = ax.imshow(confusion_matrix(Y_test,labels))\n",
    "            fig.colorbar(im)\n",
    "            plt.title(\"Matrice de confusion\")\n",
    "            plt.xlabel(\"Predicted\")\n",
    "            plt.ylabel(\"Actual\")\n",
    "        \n",
    "        return precision"
   ]
  },
  {
   "cell_type": "markdown",
   "metadata": {},
   "source": [
    "### Test du model"
   ]
  },
  {
   "cell_type": "markdown",
   "metadata": {},
   "source": [
    "On test notre fonction avec le resultat labels utilisant k=5 <br> On affiche le pourcentage de precision et la matrice de confusion"
   ]
  },
  {
   "cell_type": "code",
   "execution_count": 28,
   "metadata": {},
   "outputs": [
    {
     "data": {
      "text/plain": [
       "85.59027777777779"
      ]
     },
     "execution_count": 28,
     "metadata": {},
     "output_type": "execute_result"
    },
    {
     "data": {
      "image/png": "[encoded data removed]",
      "text/plain": [
       "<Figure size 360x360 with 2 Axes>"
      ]
     },
     "metadata": {
      "needs_background": "light"
     },
     "output_type": "display_data"
    }
   ],
   "source": [
    "model=KNN(5)\n",
    "model.Train(X_train,Y_train)\n",
    "model.Precision(X_test,Y_test,True)"
   ]
  },
  {
   "cell_type": "markdown",
   "metadata": {},
   "source": [
    "### Optimisation du model"
   ]
  },
  {
   "cell_type": "markdown",
   "metadata": {},
   "source": [
    "Maintenant que notre modèle est construit et qu'il nous fournis des resultats acceptable, nous pouvons essayer de régler le paramètre k afin d'augmenter notre score.\n",
    "Pour cela on va séparer nos données non pas en deux mais en 3 sets. Un pour l'entrainement, un pour la validation (optimisation de k ) et un dernier pour le test final."
   ]
  },
  {
   "cell_type": "markdown",
   "metadata": {},
   "source": [
    "Cependant, plusieurs découpages de nos donnèes sont possibles pour choisir notre set de validation. On va donc utiliser la méthode de **cross validation** qui permet d'explorer tout les découpages possibles pour notre set et de retourner à chaque fois son score.<br>\n",
    "Ici on va utilise le découpage des **KFolds**"
   ]
  },
  {
   "cell_type": "code",
   "execution_count": 8,
   "metadata": {},
   "outputs": [],
   "source": [
    "def CrossValidation(k,X_train,Y_train,nFolds=5):\n",
    "    scoresValidation=[]\n",
    "    \n",
    "    model=KNN(k)\n",
    "    X_Splits=np.array_split(X_train,nFolds)\n",
    "    Y_Splits=np.array_split(Y_train,nFolds)\n",
    "\n",
    "    for i in range(nFolds):\n",
    "        print(\"\\nCalcul du fold n°(\",i+1,\"/\",nFolds,\")..\")\n",
    "        X_validation=X_Splits[i]\n",
    "        Y_validation=Y_Splits[i]\n",
    "        X_newTrain=np.concatenate(np.delete(X_Splits,i))\n",
    "        Y_newTrain=np.concatenate(np.delete(Y_Splits,i))\n",
    "        \n",
    "        model.Train(X_newTrain,Y_newTrain)\n",
    "        scoresValidation.append(model.Precision(X_validation,Y_validation,False))\n",
    "        \n",
    "    return np.array(scoresValidation)\n",
    "        \n",
    "        "
   ]
  },
  {
   "cell_type": "markdown",
   "metadata": {},
   "source": [
    "On peut maintenant tester notre methode pour k=5 et 5 folds"
   ]
  },
  {
   "cell_type": "code",
   "execution_count": 9,
   "metadata": {},
   "outputs": [
    {
     "name": "stdout",
     "output_type": "stream",
     "text": [
      "\n",
      "Calcul du fold n°( 1 / 5 )..\n",
      "\n",
      "Calcul du fold n°( 2 / 5 )..\n",
      "\n",
      "Calcul du fold n°( 3 / 5 )..\n",
      "\n",
      "Calcul du fold n°( 4 / 5 )..\n",
      "\n",
      "Calcul du fold n°( 5 / 5 )..\n",
      "\n",
      "Score sur le set de validation pour chaque fold :\n",
      " [88.06941432 84.13043478 86.30434783 88.04347826 85.        ]\n",
      "\n",
      "Moyenne des scores: 86.3095350372536\n"
     ]
    }
   ],
   "source": [
    "scoresValidation=CrossValidation(5,X_train,Y_train)\n",
    "print(\"\\nScore sur le set de validation pour chaque fold :\\n\",scoresValidation)\n",
    "print(\"\\nMoyenne des scores:\",scoresValidation.mean())"
   ]
  },
  {
   "cell_type": "markdown",
   "metadata": {},
   "source": [
    "Nous sommes maintenant prêt à tester pour differents valeures de k <br> On va tracer le score sur le set de validation en fonction de k. "
   ]
  },
  {
   "cell_type": "code",
   "execution_count": 13,
   "metadata": {},
   "outputs": [],
   "source": [
    "\n",
    "def Optimise(listeK,X_train,Y_train):\n",
    "    scoresValidation=[]\n",
    "    \n",
    "    for k in listeK:\n",
    "        print(\"===========================Test k=\",k,\"==================================\")\n",
    "\n",
    "        accuracy=CrossValidation(k,X_train,Y_train,5).mean()\n",
    "        scoresValidation.append(accuracy)\n",
    "        print(\"\\n→ Accuracy =\",accuracy)\n",
    "    return scoresValidation\n",
    "    "
   ]
  },
  {
   "cell_type": "code",
   "execution_count": 14,
   "metadata": {},
   "outputs": [
    {
     "name": "stdout",
     "output_type": "stream",
     "text": [
      "===========================Test k= 1 ==================================\n",
      "\n",
      "Calcul du fold n°( 1 / 5 )..\n",
      "\n",
      "Calcul du fold n°( 2 / 5 )..\n",
      "\n",
      "Calcul du fold n°( 3 / 5 )..\n",
      "\n",
      "Calcul du fold n°( 4 / 5 )..\n",
      "\n",
      "Calcul du fold n°( 5 / 5 )..\n",
      "\n",
      "→ Accuracy = 84.52824672262567\n",
      "===========================Test k= 2 ==================================\n",
      "\n",
      "Calcul du fold n°( 1 / 5 )..\n",
      "\n",
      "Calcul du fold n°( 2 / 5 )..\n",
      "\n",
      "Calcul du fold n°( 3 / 5 )..\n",
      "\n",
      "Calcul du fold n°( 4 / 5 )..\n",
      "\n",
      "Calcul du fold n°( 5 / 5 )..\n",
      "\n",
      "→ Accuracy = 84.48420258417428\n",
      "===========================Test k= 3 ==================================\n",
      "\n",
      "Calcul du fold n°( 1 / 5 )..\n",
      "\n",
      "Calcul du fold n°( 2 / 5 )..\n",
      "\n",
      "Calcul du fold n°( 3 / 5 )..\n",
      "\n",
      "Calcul du fold n°( 4 / 5 )..\n",
      "\n",
      "Calcul du fold n°( 5 / 5 )..\n",
      "\n",
      "→ Accuracy = 85.52730359332263\n",
      "===========================Test k= 4 ==================================\n",
      "\n",
      "Calcul du fold n°( 1 / 5 )..\n",
      "\n",
      "Calcul du fold n°( 2 / 5 )..\n",
      "\n",
      "Calcul du fold n°( 3 / 5 )..\n",
      "\n",
      "Calcul du fold n°( 4 / 5 )..\n",
      "\n",
      "Calcul du fold n°( 5 / 5 )..\n",
      "\n",
      "→ Accuracy = 86.35320192398379\n",
      "===========================Test k= 5 ==================================\n",
      "\n",
      "Calcul du fold n°( 1 / 5 )..\n",
      "\n",
      "Calcul du fold n°( 2 / 5 )..\n",
      "\n",
      "Calcul du fold n°( 3 / 5 )..\n",
      "\n",
      "Calcul du fold n°( 4 / 5 )..\n",
      "\n",
      "Calcul du fold n°( 5 / 5 )..\n",
      "\n",
      "→ Accuracy = 86.3095350372536\n",
      "===========================Test k= 6 ==================================\n",
      "\n",
      "Calcul du fold n°( 1 / 5 )..\n",
      "\n",
      "Calcul du fold n°( 2 / 5 )..\n",
      "\n",
      "Calcul du fold n°( 3 / 5 )..\n",
      "\n",
      "Calcul du fold n°( 4 / 5 )..\n",
      "\n",
      "Calcul du fold n°( 5 / 5 )..\n",
      "\n",
      "→ Accuracy = 86.09252098462699\n",
      "===========================Test k= 7 ==================================\n",
      "\n",
      "Calcul du fold n°( 1 / 5 )..\n",
      "\n",
      "Calcul du fold n°( 2 / 5 )..\n",
      "\n",
      "Calcul du fold n°( 3 / 5 )..\n",
      "\n",
      "Calcul du fold n°( 4 / 5 )..\n",
      "\n",
      "Calcul du fold n°( 5 / 5 )..\n",
      "\n",
      "→ Accuracy = 86.22286145430539\n",
      "===========================Test k= 8 ==================================\n",
      "\n",
      "Calcul du fold n°( 1 / 5 )..\n",
      "\n",
      "Calcul du fold n°( 2 / 5 )..\n",
      "\n",
      "Calcul du fold n°( 3 / 5 )..\n",
      "\n",
      "Calcul du fold n°( 4 / 5 )..\n",
      "\n",
      "Calcul du fold n°( 5 / 5 )..\n",
      "\n",
      "→ Accuracy = 86.26624540224465\n",
      "===========================Test k= 9 ==================================\n",
      "\n",
      "Calcul du fold n°( 1 / 5 )..\n",
      "\n",
      "Calcul du fold n°( 2 / 5 )..\n",
      "\n",
      "Calcul du fold n°( 3 / 5 )..\n",
      "\n",
      "Calcul du fold n°( 4 / 5 )..\n",
      "\n",
      "Calcul du fold n°( 5 / 5 )..\n",
      "\n",
      "→ Accuracy = 86.30981797604451\n",
      "===========================Test k= 10 ==================================\n",
      "\n",
      "Calcul du fold n°( 1 / 5 )..\n",
      "\n",
      "Calcul du fold n°( 2 / 5 )..\n",
      "\n",
      "Calcul du fold n°( 3 / 5 )..\n",
      "\n",
      "Calcul du fold n°( 4 / 5 )..\n",
      "\n",
      "Calcul du fold n°( 5 / 5 )..\n",
      "\n",
      "→ Accuracy = 86.04913703668772\n",
      "===========================Test k= 11 ==================================\n",
      "\n",
      "Calcul du fold n°( 1 / 5 )..\n",
      "\n",
      "Calcul du fold n°( 2 / 5 )..\n",
      "\n",
      "Calcul du fold n°( 3 / 5 )..\n",
      "\n",
      "Calcul du fold n°( 4 / 5 )..\n",
      "\n",
      "Calcul du fold n°( 5 / 5 )..\n",
      "\n",
      "→ Accuracy = 86.00565877581816\n",
      "===========================Test k= 12 ==================================\n",
      "\n",
      "Calcul du fold n°( 1 / 5 )..\n",
      "\n",
      "Calcul du fold n°( 2 / 5 )..\n",
      "\n",
      "Calcul du fold n°( 3 / 5 )..\n",
      "\n",
      "Calcul du fold n°( 4 / 5 )..\n",
      "\n",
      "Calcul du fold n°( 5 / 5 )..\n",
      "\n",
      "→ Accuracy = 85.83184004527021\n",
      "===========================Test k= 13 ==================================\n",
      "\n",
      "Calcul du fold n°( 1 / 5 )..\n",
      "\n",
      "Calcul du fold n°( 2 / 5 )..\n",
      "\n",
      "Calcul du fold n°( 3 / 5 )..\n",
      "\n",
      "Calcul du fold n°( 4 / 5 )..\n",
      "\n",
      "Calcul du fold n°( 5 / 5 )..\n",
      "\n",
      "→ Accuracy = 85.48401395831368\n",
      "===========================Test k= 14 ==================================\n",
      "\n",
      "Calcul du fold n°( 1 / 5 )..\n",
      "\n",
      "Calcul du fold n°( 2 / 5 )..\n",
      "\n",
      "Calcul du fold n°( 3 / 5 )..\n",
      "\n",
      "Calcul du fold n°( 4 / 5 )..\n",
      "\n",
      "Calcul du fold n°( 5 / 5 )..\n",
      "\n",
      "→ Accuracy = 85.39696312364426\n"
     ]
    }
   ],
   "source": [
    "listeK=range(1,15)\n",
    "scoresValidation=Optimise(listeK,X_train,Y_train)"
   ]
  },
  {
   "cell_type": "code",
   "execution_count": 15,
   "metadata": {},
   "outputs": [
    {
     "data": {
      "image/png": "[encoded data removed]",
      "text/plain": [
       "<Figure size 432x288 with 1 Axes>"
      ]
     },
     "metadata": {
      "needs_background": "light"
     },
     "output_type": "display_data"
    }
   ],
   "source": [
    "plt.plot(listeK,scoresValidation)\n",
    "plt.title(\"Score en fonction de k\")\n",
    "plt.ylabel(\"Score\")\n",
    "plt.xlabel(\"K\")\n",
    "plt.grid()"
   ]
  },
  {
   "cell_type": "markdown",
   "metadata": {},
   "source": [
    "On peut voir ici que l'on obtient des scores haut pour k=4 ou k=9. Cependant un k faible peut être synonime de suraprentissage. On choisit donc k=9.\n",
    "### Test final"
   ]
  },
  {
   "cell_type": "code",
   "execution_count": 30,
   "metadata": {},
   "outputs": [
    {
     "name": "stdout",
     "output_type": "stream",
     "text": [
      "Matrice de confusion :\n",
      "[[274   0   0   0   0   0   1   0   1   0]\n",
      " [  0  60   0   0   3   1   1   0   1   0]\n",
      " [  4   0  23   7   3   1   0   0   1   0]\n",
      " [  0   3   1  26   4   3   1   0   2   0]\n",
      " [  4   0   2   0  73   4   1   0   0   0]\n",
      " [  0   2   0   2   5  11   0   0   5   0]\n",
      " [  0   0   2   1   3   0   3   1   0   0]\n",
      " [  0   1   0   0   5   0   0   4   0   2]\n",
      " [  3   0   0   3   0   0   1   0  12   0]\n",
      " [  0   0   0   0   0   1   0   0   0   4]]\n"
     ]
    },
    {
     "data": {
      "text/plain": [
       "85.06944444444444"
      ]
     },
     "execution_count": 30,
     "metadata": {},
     "output_type": "execute_result"
    }
   ],
   "source": [
    "model=KNN(9)\n",
    "model.Train(X_train,Y_train)\n",
    "model.Precision(X_test,Y_test,True)"
   ]
  },
  {
   "cell_type": "markdown",
   "metadata": {},
   "source": [
    "On obtient finalement un socre de **85.07**. On voit que l'on fait principalement des erreures su la colonne I."
   ]
  },
  {
   "cell_type": "markdown",
   "metadata": {},
   "source": [
    "### Ameliorations\n",
    "\n",
    "Une première amélioration serait d'optimiser les calculs afins qu'ils soient plus rapides.<br>\n",
    "Une deuxième amélioration non nègligeable serait d'optimiser un deuxième hyper paramètre qui est le calcul de la distance en utilisant par exemple la distance manathane. Cependant cela reviendrait à chercher la solution dans une grille (distance en ligne et k en colonne) soit environs 3x20 possibilitées (3 types de distance et on test 15 k) ce qui prendrait enormement de temps avec une version non optimisée.<br> On revient donc à la première améliroation.."
   ]
  },
  {
   "cell_type": "markdown",
   "metadata": {},
   "source": [
    "## Comparaison avec le model de Sklearn\n",
    "\n",
    "### Optimisation de k"
   ]
  },
  {
   "cell_type": "code",
   "execution_count": 19,
   "metadata": {},
   "outputs": [],
   "source": [
    "from sklearn.model_selection  import validation_curve\n",
    "from sklearn.neighbors import KNeighborsClassifier"
   ]
  },
  {
   "cell_type": "markdown",
   "metadata": {},
   "source": [
    "On utilise ici le model fournit par le package et l'optimisation de k par cross validation"
   ]
  },
  {
   "cell_type": "code",
   "execution_count": 20,
   "metadata": {},
   "outputs": [],
   "source": [
    "model=KNeighborsClassifier()\n",
    "\n",
    "ScoreTrain,ScoreValidation=validation_curve(model,X_train,Y_train,'n_neighbors',listeK,cv=5)\n",
    "\n",
    "ScoreValidation_Mean=ScoreValidation.mean(axis=1)\n",
    "ScoreTrain_Mean=ScoreTrain.mean(axis=1)"
   ]
  },
  {
   "cell_type": "code",
   "execution_count": 21,
   "metadata": {
    "scrolled": true
   },
   "outputs": [
    {
     "data": {
      "image/png": "[encoded data removed]",
      "text/plain": [
       "<Figure size 432x288 with 1 Axes>"
      ]
     },
     "metadata": {
      "needs_background": "light"
     },
     "output_type": "display_data"
    }
   ],
   "source": [
    "plt.plot(listeK,ScoreValidation_Mean,label='Validation set')\n",
    "plt.plot(listeK,ScoreTrain_Mean,label='Training set')\n",
    "plt.legend()\n",
    "plt.title(\"Score en fonction de k\")\n",
    "plt.ylabel(\"Score\")\n",
    "plt.xlabel(\"K\")\n",
    "plt.ylim(0.85,0.9)\n",
    "plt.grid()\n",
    "plt.show()"
   ]
  },
  {
   "cell_type": "markdown",
   "metadata": {},
   "source": [
    "- On a également tracé ici la courbe de score pour le training set. Cela nous permet de reperer les zones de suraprentissages (typiquement pour k< 4-5 ici).\n",
    "- On obtient donc ici k=8 ou 9"
   ]
  },
  {
   "cell_type": "markdown",
   "metadata": {},
   "source": [
    "\n",
    "\n",
    "### GridSearch"
   ]
  },
  {
   "cell_type": "code",
   "execution_count": 27,
   "metadata": {},
   "outputs": [],
   "source": [
    "from sklearn.model_selection import GridSearchCV"
   ]
  },
  {
   "cell_type": "code",
   "execution_count": 28,
   "metadata": {},
   "outputs": [
    {
     "name": "stdout",
     "output_type": "stream",
     "text": [
      "{'metric': 'euclidean', 'n_neighbors': 9}\n"
     ]
    }
   ],
   "source": [
    "parametres={'n_neighbors':listeK,'metric':['euclidean','manhattan','minkowski']}\n",
    "\n",
    "grid=GridSearchCV(KNeighborsClassifier(),parametres,cv=5)\n",
    "grid.fit(X_train,Y_train)\n",
    "print(grid.best_params_)"
   ]
  },
  {
   "cell_type": "markdown",
   "metadata": {},
   "source": [
    "On s'apercoit qu'ici la distance euclidienne est la meilleure et que k=9 est la meilleure option. On trouve donc un k du même ordre de grandeure que plus haut"
   ]
  },
  {
   "cell_type": "code",
   "execution_count": 29,
   "metadata": {},
   "outputs": [
    {
     "data": {
      "text/plain": [
       "0.8506944444444444"
      ]
     },
     "execution_count": 29,
     "metadata": {},
     "output_type": "execute_result"
    }
   ],
   "source": [
    "model=grid.best_estimator_\n",
    "model.score(X_test,Y_test)"
   ]
  },
  {
   "cell_type": "markdown",
   "metadata": {},
   "source": [
    "On obtient avec ce model une precision de **85.07** sur le set de test qui est égal au score trouvé plus haut."
   ]
  },
  {
   "cell_type": "markdown",
   "metadata": {},
   "source": [
    "# Partie II\n",
    "Nous avons maintenant un deuxième dataset à diposition. Nous avons choisit d'utiliser ce dataset afin d'agrandir nos données d'aprentissage. En effet un plus grand nombre de données d'entrainement améliorera le score de notre model (on peut d'ailleurs le voir sur les learning curve avec sklearn). <br> Dans un premier temps nous allons tester notre model sur ces datas voir si tout se passe bien, puis, nous fusionnerons les deux datasets et nous l'entrainerons avec ces nouvelles données."
   ]
  },
  {
   "cell_type": "markdown",
   "metadata": {},
   "source": [
    "### Test sur le nouveau dataset"
   ]
  },
  {
   "cell_type": "markdown",
   "metadata": {},
   "source": [
    "*on prépare nos donnèes*"
   ]
  },
  {
   "cell_type": "code",
   "execution_count": 30,
   "metadata": {},
   "outputs": [],
   "source": [
    "data2= pd.read_csv('preTest.csv',sep=';')\n",
    "entete2=data2.columns[:-1]\n",
    "\n",
    "X2=data2[entete2].values\n",
    "Y2=data2[data2.columns[-1]].to_numpy()"
   ]
  },
  {
   "cell_type": "markdown",
   "metadata": {},
   "source": [
    "On regarde le score pour notre nouveau dataSet"
   ]
  },
  {
   "cell_type": "code",
   "execution_count": 31,
   "metadata": {},
   "outputs": [
    {
     "data": {
      "text/plain": [
       "87.62599930483142"
      ]
     },
     "execution_count": 31,
     "metadata": {},
     "output_type": "execute_result"
    },
    {
     "data": {
      "image/png": "[encoded data removed]",
      "text/plain": [
       "<Figure size 360x360 with 2 Axes>"
      ]
     },
     "metadata": {
      "needs_background": "light"
     },
     "output_type": "display_data"
    }
   ],
   "source": [
    "model2=KNN(9)\n",
    "model2.Train(X_train,Y_train)\n",
    "model2.Precision(X2,Y2,True)"
   ]
  },
  {
   "cell_type": "markdown",
   "metadata": {},
   "source": [
    "### Fusion des dataSets"
   ]
  },
  {
   "cell_type": "code",
   "execution_count": 46,
   "metadata": {},
   "outputs": [],
   "source": [
    "X3=np.concatenate([X,X2])\n",
    "Y3=np.concatenate([Y,Y2])\n",
    "\n",
    "X_train3, X_test3, Y_train3, Y_test3 = model_selection.train_test_split(X3, Y3,test_size=0.2,random_state=4871)"
   ]
  },
  {
   "cell_type": "markdown",
   "metadata": {},
   "source": [
    "On optimise de nouveau le model"
   ]
  },
  {
   "cell_type": "code",
   "execution_count": 48,
   "metadata": {},
   "outputs": [
    {
     "name": "stdout",
     "output_type": "stream",
     "text": [
      "===========================Test k= 1 ==================================\n",
      "\n",
      "Calcul du fold n°( 1 / 5 )..\n",
      "\n",
      "Calcul du fold n°( 2 / 5 )..\n",
      "\n",
      "Calcul du fold n°( 3 / 5 )..\n",
      "\n",
      "Calcul du fold n°( 4 / 5 )..\n",
      "\n",
      "Calcul du fold n°( 5 / 5 )..\n",
      "\n",
      "→ Accuracy = 94.19912193740264\n",
      "===========================Test k= 2 ==================================\n",
      "\n",
      "Calcul du fold n°( 1 / 5 )..\n",
      "\n",
      "Calcul du fold n°( 2 / 5 )..\n",
      "\n",
      "Calcul du fold n°( 3 / 5 )..\n",
      "\n",
      "Calcul du fold n°( 4 / 5 )..\n",
      "\n",
      "Calcul du fold n°( 5 / 5 )..\n",
      "\n",
      "→ Accuracy = 89.35457678326961\n",
      "===========================Test k= 3 ==================================\n",
      "\n",
      "Calcul du fold n°( 1 / 5 )..\n",
      "\n",
      "Calcul du fold n°( 2 / 5 )..\n",
      "\n",
      "Calcul du fold n°( 3 / 5 )..\n",
      "\n",
      "Calcul du fold n°( 4 / 5 )..\n",
      "\n",
      "Calcul du fold n°( 5 / 5 )..\n",
      "\n",
      "→ Accuracy = 86.76931973752536\n",
      "===========================Test k= 4 ==================================\n",
      "\n",
      "Calcul du fold n°( 1 / 5 )..\n",
      "\n",
      "Calcul du fold n°( 2 / 5 )..\n",
      "\n",
      "Calcul du fold n°( 3 / 5 )..\n",
      "\n",
      "Calcul du fold n°( 4 / 5 )..\n",
      "\n",
      "Calcul du fold n°( 5 / 5 )..\n",
      "\n",
      "→ Accuracy = 87.18217438512015\n",
      "===========================Test k= 5 ==================================\n",
      "\n",
      "Calcul du fold n°( 1 / 5 )..\n",
      "\n",
      "Calcul du fold n°( 2 / 5 )..\n",
      "\n",
      "Calcul du fold n°( 3 / 5 )..\n",
      "\n",
      "Calcul du fold n°( 4 / 5 )..\n",
      "\n",
      "Calcul du fold n°( 5 / 5 )..\n",
      "\n",
      "→ Accuracy = 87.87728367086815\n",
      "===========================Test k= 6 ==================================\n",
      "\n",
      "Calcul du fold n°( 1 / 5 )..\n",
      "\n",
      "Calcul du fold n°( 2 / 5 )..\n",
      "\n",
      "Calcul du fold n°( 3 / 5 )..\n",
      "\n",
      "Calcul du fold n°( 4 / 5 )..\n",
      "\n",
      "Calcul du fold n°( 5 / 5 )..\n",
      "\n",
      "→ Accuracy = 87.3993532549686\n",
      "===========================Test k= 7 ==================================\n",
      "\n",
      "Calcul du fold n°( 1 / 5 )..\n",
      "\n",
      "Calcul du fold n°( 2 / 5 )..\n",
      "\n",
      "Calcul du fold n°( 3 / 5 )..\n",
      "\n",
      "Calcul du fold n°( 4 / 5 )..\n",
      "\n",
      "Calcul du fold n°( 5 / 5 )..\n",
      "\n",
      "→ Accuracy = 87.6817023084549\n",
      "===========================Test k= 8 ==================================\n",
      "\n",
      "Calcul du fold n°( 1 / 5 )..\n",
      "\n",
      "Calcul du fold n°( 2 / 5 )..\n",
      "\n",
      "Calcul du fold n°( 3 / 5 )..\n",
      "\n",
      "Calcul du fold n°( 4 / 5 )..\n",
      "\n",
      "Calcul du fold n°( 5 / 5 )..\n",
      "\n",
      "→ Accuracy = 87.72522777699098\n",
      "===========================Test k= 9 ==================================\n",
      "\n",
      "Calcul du fold n°( 1 / 5 )..\n",
      "\n",
      "Calcul du fold n°( 2 / 5 )..\n",
      "\n",
      "Calcul du fold n°( 3 / 5 )..\n",
      "\n",
      "Calcul du fold n°( 4 / 5 )..\n",
      "\n",
      "Calcul du fold n°( 5 / 5 )..\n",
      "\n",
      "→ Accuracy = 87.76865883019403\n",
      "===========================Test k= 10 ==================================\n",
      "\n",
      "Calcul du fold n°( 1 / 5 )..\n",
      "\n",
      "Calcul du fold n°( 2 / 5 )..\n",
      "\n",
      "Calcul du fold n°( 3 / 5 )..\n",
      "\n",
      "Calcul du fold n°( 4 / 5 )..\n",
      "\n",
      "Calcul du fold n°( 5 / 5 )..\n",
      "\n",
      "→ Accuracy = 87.50800169947601\n",
      "===========================Test k= 11 ==================================\n",
      "\n",
      "Calcul du fold n°( 1 / 5 )..\n",
      "\n",
      "Calcul du fold n°( 2 / 5 )..\n",
      "\n",
      "Calcul du fold n°( 3 / 5 )..\n",
      "\n",
      "Calcul du fold n°( 4 / 5 )..\n",
      "\n",
      "Calcul du fold n°( 5 / 5 )..\n",
      "\n",
      "→ Accuracy = 87.35606382476514\n",
      "===========================Test k= 12 ==================================\n",
      "\n",
      "Calcul du fold n°( 1 / 5 )..\n",
      "\n",
      "Calcul du fold n°( 2 / 5 )..\n",
      "\n",
      "Calcul du fold n°( 3 / 5 )..\n",
      "\n",
      "Calcul du fold n°( 4 / 5 )..\n",
      "\n",
      "Calcul du fold n°( 5 / 5 )..\n",
      "\n",
      "→ Accuracy = 87.42125761223625\n",
      "===========================Test k= 13 ==================================\n",
      "\n",
      "Calcul du fold n°( 1 / 5 )..\n",
      "\n",
      "Calcul du fold n°( 2 / 5 )..\n",
      "\n",
      "Calcul du fold n°( 3 / 5 )..\n",
      "\n",
      "Calcul du fold n°( 4 / 5 )..\n",
      "\n",
      "Calcul du fold n°( 5 / 5 )..\n",
      "\n",
      "→ Accuracy = 87.44287872350469\n",
      "===========================Test k= 14 ==================================\n",
      "\n",
      "Calcul du fold n°( 1 / 5 )..\n",
      "\n",
      "Calcul du fold n°( 2 / 5 )..\n",
      "\n",
      "Calcul du fold n°( 3 / 5 )..\n",
      "\n",
      "Calcul du fold n°( 4 / 5 )..\n",
      "\n",
      "Calcul du fold n°( 5 / 5 )..\n",
      "\n",
      "→ Accuracy = 87.48630977670774\n"
     ]
    }
   ],
   "source": [
    "scoresValidation3=Optimise(listeK,X_train3,Y_train3)"
   ]
  },
  {
   "cell_type": "code",
   "execution_count": 49,
   "metadata": {},
   "outputs": [
    {
     "data": {
      "image/png": "[encoded data removed]",
      "text/plain": [
       "<Figure size 432x288 with 1 Axes>"
      ]
     },
     "metadata": {
      "needs_background": "light"
     },
     "output_type": "display_data"
    }
   ],
   "source": [
    "plt.plot(listeK,scoresValidation3)\n",
    "plt.title(\"Score en fonction de k\")\n",
    "plt.ylabel(\"Score\")\n",
    "plt.xlabel(\"K\")\n",
    "plt.grid()"
   ]
  },
  {
   "cell_type": "markdown",
   "metadata": {},
   "source": [
    "On test notre model sur le nouveau set de test"
   ]
  },
  {
   "cell_type": "code",
   "execution_count": null,
   "metadata": {},
   "outputs": [],
   "source": [
    "model3=KNN(8)\n",
    "model3.fit(X_train3,Y_train3)\n",
    "model3.Precision(X_test3,Y_test3)"
   ]
  },
  {
   "cell_type": "markdown",
   "metadata": {},
   "source": [
    "# Partie III\n",
    "Nous allons maintenant tester notre model sur un dataset inconnu dont on ne connait pas les etiquettes.<br>\n",
    "On va commencer par importer les donnèes: "
   ]
  },
  {
   "cell_type": "code",
   "execution_count": null,
   "metadata": {},
   "outputs": [],
   "source": [
    "datafinal= pd.read_csv('finalTest.csv',sep=';')\n",
    "entetefinal=datafinal.columns\n",
    "Xfinal=datafinal[entetefinal].values"
   ]
  },
  {
   "cell_type": "markdown",
   "metadata": {},
   "source": [
    "### Enregistrement des labels\n",
    "On enregistre les labels dans un fichier texte"
   ]
  },
  {
   "cell_type": "code",
   "execution_count": 17,
   "metadata": {},
   "outputs": [],
   "source": [
    "def Save(labels):\n",
    "    with open(\"GOUBET_GRAFF.txt\",'w') as f:\n",
    "        for label in labels:\n",
    "            f.write(label+\"\\n\")"
   ]
  },
  {
   "cell_type": "code",
   "execution_count": 18,
   "metadata": {},
   "outputs": [],
   "source": [
    "labels=model3.GetLabels(Xfinal)\n",
    "Save(labels)"
   ]
  }
 ],
 "metadata": {
  "kernelspec": {
   "display_name": "Python 3",
   "language": "python",
   "name": "python3"
  },
  "language_info": {
   "codemirror_mode": {
    "name": "ipython",
    "version": 3
   },
   "file_extension": ".py",
   "mimetype": "text/x-python",
   "name": "python",
   "nbconvert_exporter": "python",
   "pygments_lexer": "ipython3",
   "version": "3.7.7"
  }
 },
 "nbformat": 4,
 "nbformat_minor": 4
}
