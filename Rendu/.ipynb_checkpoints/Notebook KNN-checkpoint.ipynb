{
 "cells": [
  {
   "cell_type": "markdown",
   "metadata": {},
   "source": [
    "\n",
    "\n",
    "\n",
    "# <center> Classification KNN</center>\n",
    "*Goubet Victor<br>\n",
    "Graff Thomas*<br>\n",
    "TD D\n",
    "\n",
    "*Ce document a été rédigé dans le but de garder une trace de ce travail. Il est donc exaustif et retrace toutes les étapes de notre démarche*"
   ]
  },
  {
   "cell_type": "markdown",
   "metadata": {},
   "source": [
    "# Partie I"
   ]
  },
  {
   "cell_type": "markdown",
   "metadata": {},
   "source": [
    "\n",
    "### Prepatation des données\n",
    "On commence par importer les librairies necessaires :"
   ]
  },
  {
   "cell_type": "code",
   "execution_count": 111,
   "metadata": {},
   "outputs": [],
   "source": [
    "import pandas as pd\n",
    "from sklearn import model_selection\n",
    "from sklearn.metrics import confusion_matrix\n",
    "import numpy as np\n",
    "import matplotlib.pyplot as plt\n",
    "from sklearn import preprocessing"
   ]
  },
  {
   "cell_type": "markdown",
   "metadata": {},
   "source": [
    "On importe les données :"
   ]
  },
  {
   "cell_type": "code",
   "execution_count": 60,
   "metadata": {},
   "outputs": [],
   "source": [
    "data= pd.read_csv('data.csv',sep=';')"
   ]
  },
  {
   "cell_type": "markdown",
   "metadata": {},
   "source": [
    "Ici on stock dans le vecteur X les colonnes correspondant aux classe et dans \n",
    "Y celles correspondant aux etiquettes"
   ]
  },
  {
   "cell_type": "code",
   "execution_count": 269,
   "metadata": {},
   "outputs": [],
   "source": [
    "entete=data.columns[:-1]\n",
    "X=data[entete].values\n",
    "Y=data[data.columns[-1]].to_numpy()\n",
    "labels_Class=np.unique(Y)"
   ]
  },
  {
   "cell_type": "markdown",
   "metadata": {},
   "source": [
    "On va maintenant normaliser nos donnèes. Cela permettra de réduire l'impact des donnèes erronées. Cela revient donc à diviser nos données par l'ecart type. Dans un soucis de rapidité on utilise ici le scaler fournis par sklearn."
   ]
  },
  {
   "cell_type": "code",
   "execution_count": 270,
   "metadata": {},
   "outputs": [],
   "source": [
    "std_scale = preprocessing.StandardScaler().fit(X)\n",
    "X_normalize = std_scale.transform(X)"
   ]
  },
  {
   "cell_type": "markdown",
   "metadata": {},
   "source": [
    "On utilise le module Sklearn pour séparer nos données en un jeux d'entrainement et un autre de test. <br>\n",
    "La separation est plus efficace car il procéde à un mélange aléatoire avant de séparer les données"
   ]
  },
  {
   "cell_type": "code",
   "execution_count": 271,
   "metadata": {},
   "outputs": [
    {
     "name": "stdout",
     "output_type": "stream",
     "text": [
      "(2301, 4)\n"
     ]
    }
   ],
   "source": [
    "X_train, X_test, Y_train, Y_test = model_selection.train_test_split(X_normalize, Y,test_size=0.2,random_state=4871)\n",
    "#On fixe le random state afin d'avoir toujours la même distribution aléatoire\n",
    "print(X_train.shape)"
   ]
  },
  {
   "cell_type": "markdown",
   "metadata": {},
   "source": [
    "### Definition du Model"
   ]
  },
  {
   "cell_type": "code",
   "execution_count": 272,
   "metadata": {},
   "outputs": [],
   "source": [
    "class KNN:\n",
    "    \n",
    "    def __init__(self,k=1):\n",
    "        self.k=k\n",
    "        \n",
    "    def Train(self,X_train,Y_train):\n",
    "        self.X_train=X_train\n",
    "        self.Y_train=Y_train\n",
    "        \n",
    "    def Distance(self,ptTest,ptTrain):\n",
    "        #On commence par définir une fonction de calcul de distance. Ici on choisit la distance euclidienne\n",
    "        distance=0\n",
    "        for k in range(len(ptTrain)):\n",
    "            distance+=(ptTrain[k]-ptTest[k])**2\n",
    "        return np.sqrt(distance)\n",
    "    \n",
    "    \n",
    "    def GetLabel(self,instance):\n",
    "        #On definit la fonction GetLabel permettant de prédir l'étiquette d'une instance\n",
    "        distances=[self.Distance(instance,x) for x in self.X_train ]\n",
    "        indexes=np.argsort(distances)[:self.k]\n",
    "        Top_Neighbours=np.array([self.Y_train[i] for i in indexes])\n",
    "\n",
    "        return max(labels_Class,key=lambda x:np.sum(Top_Neighbours==x))\n",
    "\n",
    "    def GetLabels(self,X):\n",
    "        #On récupére ici le label de chaque instance\n",
    "        labels=[self.GetLabel(x) for x in X]\n",
    "        return np.array(labels)\n",
    "    \n",
    "    def Precision(self,X_test,Y_test,MC):\n",
    "        #On compare nos label estimés aux réel labels et on en déduit une precision\n",
    "        labels=self.GetLabels(X_test)\n",
    "        precision=np.sum(labels==Y_test)/len(labels)*100\n",
    "        \n",
    "        if MC:\n",
    "            fig = plt.figure(figsize=(5,5))\n",
    "            ax = fig.add_subplot(111)\n",
    "            im = ax.imshow(confusion_matrix(Y_test,labels))\n",
    "            fig.colorbar(im)\n",
    "            plt.title(\"Matrice de confusion\")\n",
    "            plt.xlabel(\"Predicted\")\n",
    "            plt.ylabel(\"Actual\")\n",
    "        \n",
    "        return precision"
   ]
  },
  {
   "cell_type": "markdown",
   "metadata": {},
   "source": [
    "### Test du model"
   ]
  },
  {
   "cell_type": "markdown",
   "metadata": {},
   "source": [
    "On test notre fonction avec le resultat labels utilisant k=2 <br> On affiche le pourcentage de precision et la matrice de confusion"
   ]
  },
  {
   "cell_type": "code",
   "execution_count": 273,
   "metadata": {},
   "outputs": [
    {
     "data": {
      "text/plain": [
       "85.06944444444444"
      ]
     },
     "execution_count": 273,
     "metadata": {},
     "output_type": "execute_result"
    },
    {
     "data": {
      "image/png": "[encoded data removed]",
      "text/plain": [
       "<Figure size 360x360 with 2 Axes>"
      ]
     },
     "metadata": {
      "needs_background": "light"
     },
     "output_type": "display_data"
    }
   ],
   "source": [
    "model=KNN(2)\n",
    "model.Train(X_train,Y_train)\n",
    "model.Precision(X_test,Y_test,True)"
   ]
  },
  {
   "cell_type": "markdown",
   "metadata": {},
   "source": [
    "En prenant un k aléaoirement on a ici un score de 85.069\n",
    "### Optimisation du model"
   ]
  },
  {
   "cell_type": "markdown",
   "metadata": {},
   "source": [
    "Maintenant que notre modèle est construit et qu'il nous fournit des resultats acceptables, nous pouvons essayer de régler le paramètre k afin d'augmenter notre score.\n",
    "Pour cela on va séparer nos données non pas en deux mais en 3 sets. Un pour l'entrainement, un pour la validation (optimisation de k ) et un dernier pour le test final."
   ]
  },
  {
   "cell_type": "markdown",
   "metadata": {},
   "source": [
    "Cependant, plusieurs découpages de nos donnèes sont possibles pour choisir notre set de validation. On va donc utiliser la méthode de **cross validation** qui permet d'explorer tout les découpages possibles pour notre set et de retourner à chaque fois son score.<br>\n",
    "Ici on va utilise le découpage des **KFolds**"
   ]
  },
  {
   "cell_type": "code",
   "execution_count": 274,
   "metadata": {},
   "outputs": [],
   "source": [
    "def CrossValidation(k,X_train,Y_train,nFolds=5):\n",
    "    scoresValidation=[]\n",
    "    \n",
    "    model=KNN(k)\n",
    "    X_Splits=np.array_split(X_train,nFolds)\n",
    "    Y_Splits=np.array_split(Y_train,nFolds)\n",
    "\n",
    "    for i in range(nFolds):\n",
    "        print(\"\\nCalcul du fold n°(\",i+1,\"/\",nFolds,\")..\")\n",
    "        X_validation=X_Splits[i]\n",
    "        Y_validation=Y_Splits[i]\n",
    "        X_newTrain=np.concatenate(np.delete(X_Splits,i,0))\n",
    "        Y_newTrain=np.concatenate(np.delete(Y_Splits,i,0))\n",
    "        \n",
    "        model.Train(X_newTrain,Y_newTrain)\n",
    "        scoresValidation.append(model.Precision(X_validation,Y_validation,False))\n",
    "        \n",
    "    return np.array(scoresValidation)\n",
    "        \n",
    "        "
   ]
  },
  {
   "cell_type": "markdown",
   "metadata": {},
   "source": [
    "On peut maintenant tester notre methode pour k=2 et 5 folds"
   ]
  },
  {
   "cell_type": "code",
   "execution_count": 275,
   "metadata": {},
   "outputs": [
    {
     "name": "stdout",
     "output_type": "stream",
     "text": [
      "\n",
      "Calcul du fold n°( 1 / 5 )..\n",
      "\n",
      "Calcul du fold n°( 2 / 5 )..\n",
      "\n",
      "Calcul du fold n°( 3 / 5 )..\n",
      "\n",
      "Calcul du fold n°( 4 / 5 )..\n",
      "\n",
      "Calcul du fold n°( 5 / 5 )..\n",
      "\n",
      "Score sur le set de validation pour chaque fold :\n",
      " [86.55097614 81.30434783 84.34782609 88.26086957 84.7826087 ]\n",
      "\n",
      "Moyenne des scores: 85.04932566254834\n"
     ]
    }
   ],
   "source": [
    "scoresValidation=CrossValidation(2,X_train,Y_train)\n",
    "print(\"\\nScore sur le set de validation pour chaque fold :\\n\",scoresValidation)\n",
    "print(\"\\nMoyenne des scores:\",scoresValidation.mean())"
   ]
  },
  {
   "cell_type": "markdown",
   "metadata": {},
   "source": [
    "Nous sommes maintenant prêt à tester pour differents valeures de k <br> On va tracer le score sur le set de validation en fonction de k. "
   ]
  },
  {
   "cell_type": "code",
   "execution_count": 276,
   "metadata": {},
   "outputs": [],
   "source": [
    "\n",
    "def Optimise(listeK,X_train,Y_train):\n",
    "    scoresValidation=[]\n",
    "    \n",
    "    for k in listeK:\n",
    "        print(\"===========================Test k=\",k,\"==================================\")\n",
    "\n",
    "        accuracy=CrossValidation(k,X_train,Y_train,5).mean()\n",
    "        scoresValidation.append(accuracy)\n",
    "        print(\"\\n→ Accuracy =\",accuracy)\n",
    "    return scoresValidation\n",
    "    "
   ]
  },
  {
   "cell_type": "code",
   "execution_count": 277,
   "metadata": {},
   "outputs": [
    {
     "name": "stdout",
     "output_type": "stream",
     "text": [
      "===========================Test k= 1 ==================================\n",
      "\n",
      "Calcul du fold n°( 1 / 5 )..\n",
      "\n",
      "Calcul du fold n°( 2 / 5 )..\n",
      "\n",
      "Calcul du fold n°( 3 / 5 )..\n",
      "\n",
      "Calcul du fold n°( 4 / 5 )..\n",
      "\n",
      "Calcul du fold n°( 5 / 5 )..\n",
      "\n",
      "→ Accuracy = 85.13628218428747\n",
      "===========================Test k= 2 ==================================\n",
      "\n",
      "Calcul du fold n°( 1 / 5 )..\n",
      "\n",
      "Calcul du fold n°( 2 / 5 )..\n",
      "\n",
      "Calcul du fold n°( 3 / 5 )..\n",
      "\n",
      "Calcul du fold n°( 4 / 5 )..\n",
      "\n",
      "Calcul du fold n°( 5 / 5 )..\n",
      "\n",
      "→ Accuracy = 85.04932566254834\n",
      "===========================Test k= 3 ==================================\n",
      "\n",
      "Calcul du fold n°( 1 / 5 )..\n",
      "\n",
      "Calcul du fold n°( 2 / 5 )..\n",
      "\n",
      "Calcul du fold n°( 3 / 5 )..\n",
      "\n",
      "Calcul du fold n°( 4 / 5 )..\n",
      "\n",
      "Calcul du fold n°( 5 / 5 )..\n",
      "\n",
      "→ Accuracy = 85.00556446288786\n",
      "===========================Test k= 4 ==================================\n",
      "\n",
      "Calcul du fold n°( 1 / 5 )..\n",
      "\n",
      "Calcul du fold n°( 2 / 5 )..\n",
      "\n",
      "Calcul du fold n°( 3 / 5 )..\n",
      "\n",
      "Calcul du fold n°( 4 / 5 )..\n",
      "\n",
      "Calcul du fold n°( 5 / 5 )..\n",
      "\n",
      "→ Accuracy = 85.74422333301897\n",
      "===========================Test k= 5 ==================================\n",
      "\n",
      "Calcul du fold n°( 1 / 5 )..\n",
      "\n",
      "Calcul du fold n°( 2 / 5 )..\n",
      "\n",
      "Calcul du fold n°( 3 / 5 )..\n",
      "\n",
      "Calcul du fold n°( 4 / 5 )..\n",
      "\n",
      "Calcul du fold n°( 5 / 5 )..\n",
      "\n",
      "→ Accuracy = 86.00490427237574\n",
      "===========================Test k= 6 ==================================\n",
      "\n",
      "Calcul du fold n°( 1 / 5 )..\n",
      "\n",
      "Calcul du fold n°( 2 / 5 )..\n",
      "\n",
      "Calcul du fold n°( 3 / 5 )..\n",
      "\n",
      "Calcul du fold n°( 4 / 5 )..\n",
      "\n",
      "Calcul du fold n°( 5 / 5 )..\n",
      "\n",
      "→ Accuracy = 85.96180326322738\n",
      "===========================Test k= 7 ==================================\n",
      "\n",
      "Calcul du fold n°( 1 / 5 )..\n",
      "\n",
      "Calcul du fold n°( 2 / 5 )..\n",
      "\n",
      "Calcul du fold n°( 3 / 5 )..\n",
      "\n",
      "Calcul du fold n°( 4 / 5 )..\n",
      "\n",
      "Calcul du fold n°( 5 / 5 )..\n",
      "\n",
      "→ Accuracy = 86.17891162878429\n",
      "===========================Test k= 8 ==================================\n",
      "\n",
      "Calcul du fold n°( 1 / 5 )..\n",
      "\n",
      "Calcul du fold n°( 2 / 5 )..\n",
      "\n",
      "Calcul du fold n°( 3 / 5 )..\n",
      "\n",
      "Calcul du fold n°( 4 / 5 )..\n",
      "\n",
      "Calcul du fold n°( 5 / 5 )..\n",
      "\n",
      "→ Accuracy = 86.4402527586532\n",
      "===========================Test k= 9 ==================================\n",
      "\n",
      "Calcul du fold n°( 1 / 5 )..\n",
      "\n",
      "Calcul du fold n°( 2 / 5 )..\n",
      "\n",
      "Calcul du fold n°( 3 / 5 )..\n",
      "\n",
      "Calcul du fold n°( 4 / 5 )..\n",
      "\n",
      "Calcul du fold n°( 5 / 5 )..\n",
      "\n",
      "→ Accuracy = 86.13581061963595\n",
      "===========================Test k= 10 ==================================\n",
      "\n",
      "Calcul du fold n°( 1 / 5 )..\n",
      "\n",
      "Calcul du fold n°( 2 / 5 )..\n",
      "\n",
      "Calcul du fold n°( 3 / 5 )..\n",
      "\n",
      "Calcul du fold n°( 4 / 5 )..\n",
      "\n",
      "Calcul du fold n°( 5 / 5 )..\n",
      "\n",
      "→ Accuracy = 85.52749221918324\n",
      "===========================Test k= 11 ==================================\n",
      "\n",
      "Calcul du fold n°( 1 / 5 )..\n",
      "\n",
      "Calcul du fold n°( 2 / 5 )..\n",
      "\n",
      "Calcul du fold n°( 3 / 5 )..\n",
      "\n",
      "Calcul du fold n°( 4 / 5 )..\n",
      "\n",
      "Calcul du fold n°( 5 / 5 )..\n",
      "\n",
      "→ Accuracy = 85.91860794114874\n",
      "===========================Test k= 12 ==================================\n",
      "\n",
      "Calcul du fold n°( 1 / 5 )..\n",
      "\n",
      "Calcul du fold n°( 2 / 5 )..\n",
      "\n",
      "Calcul du fold n°( 3 / 5 )..\n",
      "\n",
      "Calcul du fold n°( 4 / 5 )..\n",
      "\n",
      "Calcul du fold n°( 5 / 5 )..\n",
      "\n",
      "→ Accuracy = 85.87531830613977\n",
      "===========================Test k= 13 ==================================\n",
      "\n",
      "Calcul du fold n°( 1 / 5 )..\n",
      "\n",
      "Calcul du fold n°( 2 / 5 )..\n",
      "\n",
      "Calcul du fold n°( 3 / 5 )..\n",
      "\n",
      "Calcul du fold n°( 4 / 5 )..\n",
      "\n",
      "Calcul du fold n°( 5 / 5 )..\n",
      "\n",
      "→ Accuracy = 85.31038385362633\n",
      "===========================Test k= 14 ==================================\n",
      "\n",
      "Calcul du fold n°( 1 / 5 )..\n",
      "\n",
      "Calcul du fold n°( 2 / 5 )..\n",
      "\n",
      "Calcul du fold n°( 3 / 5 )..\n",
      "\n",
      "Calcul du fold n°( 4 / 5 )..\n",
      "\n",
      "Calcul du fold n°( 5 / 5 )..\n",
      "\n",
      "→ Accuracy = 85.17976044515703\n"
     ]
    }
   ],
   "source": [
    "listeK=range(1,15)\n",
    "scoresValidation=Optimise(listeK,X_train,Y_train)"
   ]
  },
  {
   "cell_type": "code",
   "execution_count": 278,
   "metadata": {},
   "outputs": [
    {
     "data": {
      "image/png": "[encoded data removed]",
      "text/plain": [
       "<Figure size 432x288 with 1 Axes>"
      ]
     },
     "metadata": {
      "needs_background": "light"
     },
     "output_type": "display_data"
    }
   ],
   "source": [
    "plt.plot(listeK,scoresValidation)\n",
    "plt.title(\"Score en fonction de k\")\n",
    "plt.ylabel(\"Score\")\n",
    "plt.xlabel(\"K\")\n",
    "plt.grid()"
   ]
  },
  {
   "cell_type": "markdown",
   "metadata": {},
   "source": [
    "On peut voir ici que l'on obtient des scores haut pour k=7-8-9. Cependant un k pair peu mener à des votes égalitaires. On choisit donc k=7.\n",
    "### Test final"
   ]
  },
  {
   "cell_type": "code",
   "execution_count": 279,
   "metadata": {},
   "outputs": [
    {
     "data": {
      "text/plain": [
       "86.45833333333334"
      ]
     },
     "execution_count": 279,
     "metadata": {},
     "output_type": "execute_result"
    },
    {
     "data": {
      "image/png": "[encoded data removed]",
      "text/plain": [
       "<Figure size 360x360 with 2 Axes>"
      ]
     },
     "metadata": {
      "needs_background": "light"
     },
     "output_type": "display_data"
    }
   ],
   "source": [
    "model=KNN(7)\n",
    "model.Train(X_train,Y_train)\n",
    "model.Precision(X_test,Y_test,True)"
   ]
  },
  {
   "cell_type": "markdown",
   "metadata": {},
   "source": [
    "On obtient finalement un socre de **86.46**."
   ]
  },
  {
   "cell_type": "markdown",
   "metadata": {},
   "source": [
    "### Ameliorations\n",
    "\n",
    "Une première amélioration serait d'optimiser les calculs afins qu'ils soient plus rapides.Plusieurs techniques ont déja été imaginées comme l'utilisation d'un ACP pour réduire le nombre de dimension pour la distance ou encore utiliser des arbres de recherche pour trouver des \"presques voisin\"<br>\n",
    "Une deuxième amélioration non nègligeable serait d'optimiser un deuxième hyper paramètre qui est le calcul de la distance en utilisant par exemple la distance manathane. Cependant cela reviendrait à chercher la solution dans une grille (distance en ligne et k en colonne) soit environs 5x15 possibilitées (5 types de distance et on test 15 k) ce qui prendrait enormement de temps avec une version non optimisée.<br> On revient donc à la première améliroation.."
   ]
  },
  {
   "cell_type": "markdown",
   "metadata": {},
   "source": [
    "# Partie II\n",
    "Nous avons maintenant un deuxième dataset à diposition. Nous avons choisit d'utiliser ce dataset afin d'agrandir nos données d'aprentissage. En effet un plus grand nombre de données d'entrainement améliorera la precision de notre model (on peut d'ailleurs le voir sur les learning curve avec sklearn). <br> Dans un premier temps nous allons tester notre model sur ces datas voir si tout se passe bien, puis, nous fusionnerons les deux datasets et nous l'entrainerons avec ces nouvelles données."
   ]
  },
  {
   "cell_type": "markdown",
   "metadata": {},
   "source": [
    "### Test sur le nouveau dataset"
   ]
  },
  {
   "cell_type": "markdown",
   "metadata": {},
   "source": [
    "*on prépare nos donnèes*"
   ]
  },
  {
   "cell_type": "code",
   "execution_count": 280,
   "metadata": {},
   "outputs": [],
   "source": [
    "data2= pd.read_csv('preTest.csv',sep=';') #On charge\n",
    "entete2=data2.columns[:-1]\n",
    "\n",
    "#On sépare les etiquettes\n",
    "X2=data2[entete2].values\n",
    "Y2=data2[data2.columns[-1]].to_numpy()\n",
    "\n",
    "#On normalise\n",
    "std_scale2 = preprocessing.StandardScaler().fit(X2)\n",
    "X2_normalize = std_scale2.transform(X2)"
   ]
  },
  {
   "cell_type": "markdown",
   "metadata": {},
   "source": [
    "On regarde le score pour notre nouveau dataSet."
   ]
  },
  {
   "cell_type": "code",
   "execution_count": 293,
   "metadata": {},
   "outputs": [
    {
     "data": {
      "text/plain": [
       "87.47913188647746"
      ]
     },
     "execution_count": 293,
     "metadata": {},
     "output_type": "execute_result"
    },
    {
     "data": {
      "image/png": "[encoded data removed]",
      "text/plain": [
       "<Figure size 360x360 with 2 Axes>"
      ]
     },
     "metadata": {
      "needs_background": "light"
     },
     "output_type": "display_data"
    }
   ],
   "source": [
    "model2=KNN(7)\n",
    "model2.Train(X_train,Y_train)\n",
    "model2.Precision(X2_normalize,Y2,True)"
   ]
  },
  {
   "cell_type": "markdown",
   "metadata": {},
   "source": [
    "On obtient ici avec le model optimisé un score de **87.48**. Tout semble donc marcher.<br>\n",
    "Un premier test a été fait en \"fitant\" notre model au total des données du premier dataset, cela aurait pu améliorer les perfomances car il y a ainsi plus de données de référence. Cependant cela a légérement baissé le score. Cela est peut être du à un phénomene de **double descent**. Dans le doute, nous laissons X_train et Y_train en données d'entrainement\n",
    "### Fusion des dataSets\n",
    "Fusionnons maintenant les dataset afin d'augmente notre precision"
   ]
  },
  {
   "cell_type": "code",
   "execution_count": 290,
   "metadata": {},
   "outputs": [],
   "source": [
    "X3_normalize=np.concatenate([X_normalize,X2_normalize])\n",
    "Y3=np.concatenate([Y,Y2])\n",
    "\n",
    "X_train3, X_test3, Y_train3, Y_test3 = model_selection.train_test_split(X3_normalize, Y3,test_size=0.2,random_state=4871)"
   ]
  },
  {
   "cell_type": "markdown",
   "metadata": {},
   "source": [
    "On optimise de nouveau le model"
   ]
  },
  {
   "cell_type": "code",
   "execution_count": 291,
   "metadata": {},
   "outputs": [
    {
     "name": "stdout",
     "output_type": "stream",
     "text": [
      "===========================Test k= 1 ==================================\n",
      "\n",
      "Calcul du fold n°( 1 / 5 )..\n",
      "\n",
      "Calcul du fold n°( 2 / 5 )..\n",
      "\n",
      "Calcul du fold n°( 3 / 5 )..\n",
      "\n",
      "Calcul du fold n°( 4 / 5 )..\n",
      "\n",
      "Calcul du fold n°( 5 / 5 )..\n",
      "\n",
      "→ Accuracy = 84.96402877697842\n",
      "===========================Test k= 2 ==================================\n",
      "\n",
      "Calcul du fold n°( 1 / 5 )..\n",
      "\n",
      "Calcul du fold n°( 2 / 5 )..\n",
      "\n",
      "Calcul du fold n°( 3 / 5 )..\n",
      "\n",
      "Calcul du fold n°( 4 / 5 )..\n",
      "\n",
      "Calcul du fold n°( 5 / 5 )..\n",
      "\n",
      "→ Accuracy = 85.0\n",
      "===========================Test k= 3 ==================================\n",
      "\n",
      "Calcul du fold n°( 1 / 5 )..\n",
      "\n",
      "Calcul du fold n°( 2 / 5 )..\n",
      "\n",
      "Calcul du fold n°( 3 / 5 )..\n",
      "\n",
      "Calcul du fold n°( 4 / 5 )..\n",
      "\n",
      "Calcul du fold n°( 5 / 5 )..\n",
      "\n",
      "→ Accuracy = 85.97122302158273\n",
      "===========================Test k= 4 ==================================\n",
      "\n",
      "Calcul du fold n°( 1 / 5 )..\n",
      "\n",
      "Calcul du fold n°( 2 / 5 )..\n",
      "\n",
      "Calcul du fold n°( 3 / 5 )..\n",
      "\n",
      "Calcul du fold n°( 4 / 5 )..\n",
      "\n",
      "Calcul du fold n°( 5 / 5 )..\n",
      "\n",
      "→ Accuracy = 86.61870503597125\n",
      "===========================Test k= 5 ==================================\n",
      "\n",
      "Calcul du fold n°( 1 / 5 )..\n",
      "\n",
      "Calcul du fold n°( 2 / 5 )..\n",
      "\n",
      "Calcul du fold n°( 3 / 5 )..\n",
      "\n",
      "Calcul du fold n°( 4 / 5 )..\n",
      "\n",
      "Calcul du fold n°( 5 / 5 )..\n",
      "\n",
      "→ Accuracy = 86.54676258992806\n",
      "===========================Test k= 6 ==================================\n",
      "\n",
      "Calcul du fold n°( 1 / 5 )..\n",
      "\n",
      "Calcul du fold n°( 2 / 5 )..\n",
      "\n",
      "Calcul du fold n°( 3 / 5 )..\n",
      "\n",
      "Calcul du fold n°( 4 / 5 )..\n",
      "\n",
      "Calcul du fold n°( 5 / 5 )..\n",
      "\n",
      "→ Accuracy = 85.75539568345324\n",
      "===========================Test k= 7 ==================================\n",
      "\n",
      "Calcul du fold n°( 1 / 5 )..\n",
      "\n",
      "Calcul du fold n°( 2 / 5 )..\n",
      "\n",
      "Calcul du fold n°( 3 / 5 )..\n",
      "\n",
      "Calcul du fold n°( 4 / 5 )..\n",
      "\n",
      "Calcul du fold n°( 5 / 5 )..\n",
      "\n",
      "→ Accuracy = 86.40287769784175\n",
      "===========================Test k= 8 ==================================\n",
      "\n",
      "Calcul du fold n°( 1 / 5 )..\n",
      "\n",
      "Calcul du fold n°( 2 / 5 )..\n",
      "\n",
      "Calcul du fold n°( 3 / 5 )..\n",
      "\n",
      "Calcul du fold n°( 4 / 5 )..\n",
      "\n",
      "Calcul du fold n°( 5 / 5 )..\n",
      "\n",
      "→ Accuracy = 86.58273381294963\n",
      "===========================Test k= 9 ==================================\n",
      "\n",
      "Calcul du fold n°( 1 / 5 )..\n",
      "\n",
      "Calcul du fold n°( 2 / 5 )..\n",
      "\n",
      "Calcul du fold n°( 3 / 5 )..\n",
      "\n",
      "Calcul du fold n°( 4 / 5 )..\n",
      "\n",
      "Calcul du fold n°( 5 / 5 )..\n",
      "\n",
      "→ Accuracy = 86.61870503597122\n",
      "===========================Test k= 10 ==================================\n",
      "\n",
      "Calcul du fold n°( 1 / 5 )..\n",
      "\n",
      "Calcul du fold n°( 2 / 5 )..\n",
      "\n",
      "Calcul du fold n°( 3 / 5 )..\n",
      "\n",
      "Calcul du fold n°( 4 / 5 )..\n",
      "\n",
      "Calcul du fold n°( 5 / 5 )..\n",
      "\n",
      "→ Accuracy = 86.4748201438849\n",
      "===========================Test k= 11 ==================================\n",
      "\n",
      "Calcul du fold n°( 1 / 5 )..\n",
      "\n",
      "Calcul du fold n°( 2 / 5 )..\n",
      "\n",
      "Calcul du fold n°( 3 / 5 )..\n",
      "\n",
      "Calcul du fold n°( 4 / 5 )..\n",
      "\n",
      "Calcul du fold n°( 5 / 5 )..\n",
      "\n",
      "→ Accuracy = 86.43884892086331\n",
      "===========================Test k= 12 ==================================\n",
      "\n",
      "Calcul du fold n°( 1 / 5 )..\n",
      "\n",
      "Calcul du fold n°( 2 / 5 )..\n",
      "\n",
      "Calcul du fold n°( 3 / 5 )..\n",
      "\n",
      "Calcul du fold n°( 4 / 5 )..\n",
      "\n",
      "Calcul du fold n°( 5 / 5 )..\n",
      "\n",
      "→ Accuracy = 86.36690647482014\n",
      "===========================Test k= 13 ==================================\n",
      "\n",
      "Calcul du fold n°( 1 / 5 )..\n",
      "\n",
      "Calcul du fold n°( 2 / 5 )..\n",
      "\n",
      "Calcul du fold n°( 3 / 5 )..\n",
      "\n",
      "Calcul du fold n°( 4 / 5 )..\n",
      "\n",
      "Calcul du fold n°( 5 / 5 )..\n",
      "\n",
      "→ Accuracy = 86.25899280575541\n",
      "===========================Test k= 14 ==================================\n",
      "\n",
      "Calcul du fold n°( 1 / 5 )..\n",
      "\n",
      "Calcul du fold n°( 2 / 5 )..\n",
      "\n",
      "Calcul du fold n°( 3 / 5 )..\n",
      "\n",
      "Calcul du fold n°( 4 / 5 )..\n",
      "\n",
      "Calcul du fold n°( 5 / 5 )..\n",
      "\n",
      "→ Accuracy = 86.33093525179856\n"
     ]
    }
   ],
   "source": [
    "scoresValidation3=Optimise(listeK,X_train3,Y_train3)"
   ]
  },
  {
   "cell_type": "code",
   "execution_count": 294,
   "metadata": {},
   "outputs": [
    {
     "data": {
      "image/png": "[encoded data removed]",
      "text/plain": [
       "<Figure size 432x288 with 1 Axes>"
      ]
     },
     "metadata": {
      "needs_background": "light"
     },
     "output_type": "display_data"
    }
   ],
   "source": [
    "plt.plot(listeK,scoresValidation3)\n",
    "plt.title(\"Score en fonction de k\")\n",
    "plt.ylabel(\"Score\")\n",
    "plt.xlabel(\"K\")\n",
    "plt.grid()"
   ]
  },
  {
   "cell_type": "markdown",
   "metadata": {},
   "source": [
    "On voit ici qu'avec plus de données, le réglages k=9 semble plus optimal, on va donc garder cette valeure."
   ]
  },
  {
   "cell_type": "code",
   "execution_count": 295,
   "metadata": {},
   "outputs": [
    {
     "data": {
      "text/plain": [
       "87.64367816091954"
      ]
     },
     "execution_count": 295,
     "metadata": {},
     "output_type": "execute_result"
    },
    {
     "data": {
      "image/png": "[encoded data removed]",
      "text/plain": [
       "<Figure size 360x360 with 2 Axes>"
      ]
     },
     "metadata": {
      "needs_background": "light"
     },
     "output_type": "display_data"
    }
   ],
   "source": [
    "modelFinal=KNN(9)\n",
    "modelFinal.Train(X_train3,Y_train3)\n",
    "modelFinal.Precision(X_test3,Y_test3,True)"
   ]
  },
  {
   "cell_type": "markdown",
   "metadata": {},
   "source": [
    "On obtient alors sur notre set de test un score de **87.64** "
   ]
  },
  {
   "cell_type": "markdown",
   "metadata": {},
   "source": [
    "# Partie III\n",
    "Nous allons maintenant tester notre model sur un dataset inconnu dont on ne connait pas les etiquettes.<br>\n",
    "On va commencer par importer les donnèes: "
   ]
  },
  {
   "cell_type": "code",
   "execution_count": 297,
   "metadata": {},
   "outputs": [],
   "source": [
    "datafinal= pd.read_csv('finalTest.csv',sep=';')\n",
    "entetefinal=datafinal.columns\n",
    "Xfinal=datafinal[entetefinal].values\n",
    "\n",
    "std_scaleFinal = preprocessing.StandardScaler().fit(Xfinal)\n",
    "Xfinal_normalize = std_scaleFinal.transform(Xfinal)"
   ]
  },
  {
   "cell_type": "markdown",
   "metadata": {},
   "source": [
    "### Enregistrement des labels\n",
    "On enregistre les labels dans un fichier texte"
   ]
  },
  {
   "cell_type": "code",
   "execution_count": 298,
   "metadata": {},
   "outputs": [],
   "source": [
    "def Save(labels):\n",
    "    with open(\"GOUBET_GRAFF.txt\",'w') as f:\n",
    "        for label in labels:\n",
    "            f.write(label+\"\\n\")"
   ]
  },
  {
   "cell_type": "code",
   "execution_count": 299,
   "metadata": {},
   "outputs": [],
   "source": [
    "labels=modelFinal.GetLabels(Xfinal_normalize)\n",
    "Save(labels)"
   ]
  },
  {
   "cell_type": "markdown",
   "metadata": {},
   "source": [
    "# Comparaison avec le model de Sklearn\n",
    "\n",
    "### Optimisation de k"
   ]
  },
  {
   "cell_type": "code",
   "execution_count": 300,
   "metadata": {},
   "outputs": [],
   "source": [
    "from sklearn.model_selection  import validation_curve\n",
    "from sklearn.neighbors import KNeighborsClassifier"
   ]
  },
  {
   "cell_type": "markdown",
   "metadata": {},
   "source": [
    "On utilise ici le model fournit par le package et l'optimisation de k par cross validation"
   ]
  },
  {
   "cell_type": "code",
   "execution_count": 301,
   "metadata": {},
   "outputs": [],
   "source": [
    "model=KNeighborsClassifier()\n",
    "\n",
    "ScoreTrain,ScoreValidation=validation_curve(model,X_train3,Y_train3,'n_neighbors',listeK,cv=5)\n",
    "\n",
    "ScoreValidation_Mean=ScoreValidation.mean(axis=1)\n",
    "ScoreTrain_Mean=ScoreTrain.mean(axis=1)"
   ]
  },
  {
   "cell_type": "code",
   "execution_count": 302,
   "metadata": {
    "scrolled": true
   },
   "outputs": [
    {
     "data": {
      "image/png": "[encoded data removed]",
      "text/plain": [
       "<Figure size 432x288 with 1 Axes>"
      ]
     },
     "metadata": {
      "needs_background": "light"
     },
     "output_type": "display_data"
    }
   ],
   "source": [
    "plt.plot(listeK,ScoreValidation_Mean,label='Validation set')\n",
    "plt.plot(listeK,ScoreTrain_Mean,label='Training set')\n",
    "plt.legend()\n",
    "plt.title(\"Score en fonction de k\")\n",
    "plt.ylabel(\"Score\")\n",
    "plt.xlabel(\"K\")\n",
    "plt.ylim(0.85,0.9)\n",
    "plt.grid()\n",
    "plt.show()"
   ]
  },
  {
   "cell_type": "markdown",
   "metadata": {},
   "source": [
    "- On a également tracé ici la courbe de score pour le training set. Cela nous permet de reperer les zones de suraprentissages (typiquement pour k< 4-5 ici).\n",
    "- On obtient donc ici k=9"
   ]
  },
  {
   "cell_type": "markdown",
   "metadata": {},
   "source": [
    "\n",
    "\n",
    "### GridSearch\n",
    "On va ici utiliser la méthode grid search qui procède toujours par cross validation mais qui va optimiser tout les hypers parmètres (ici k et distances)."
   ]
  },
  {
   "cell_type": "code",
   "execution_count": 303,
   "metadata": {},
   "outputs": [],
   "source": [
    "from sklearn.model_selection import GridSearchCV"
   ]
  },
  {
   "cell_type": "code",
   "execution_count": 307,
   "metadata": {
    "scrolled": true
   },
   "outputs": [
    {
     "name": "stdout",
     "output_type": "stream",
     "text": [
      "{'metric': 'euclidean', 'n_neighbors': 9}\n"
     ]
    }
   ],
   "source": [
    "parametres={'n_neighbors':listeK,'metric':['euclidean','manhattan','minkowski']}\n",
    "\n",
    "grid_params = [\n",
    "    {'n_neighbors': listeK, 'metric': ['euclidean', 'minkowski','chebyshev']},\n",
    "    {'n_neighbors': listeK, 'metric': ['mahalanobis', 'seuclidean'],\n",
    "     'metric_params': [{'V': np.cov(X_train.T)}]}\n",
    "]\n",
    "\n",
    "grid=GridSearchCV(KNeighborsClassifier(),parametres,cv=5)\n",
    "grid.fit(X_train3,Y_train3)\n",
    "print(grid.best_params_)"
   ]
  },
  {
   "cell_type": "markdown",
   "metadata": {},
   "source": [
    "On s'aperçoit qu'ici la distance euclidienne est la meilleure et donc que k=9 reste la meilleure option. On trouve donc le même k trouvé plus haut. <br> \n",
    "On a par ailleurs bien fait de ne pas utiliser un distance avec poids comme la distance de minkoswki qui pourtant parait plus discriminante envers les points isolés et donc semblerait réduire le bruit mais qui ici apporte un moins bon score. "
   ]
  },
  {
   "cell_type": "code",
   "execution_count": 305,
   "metadata": {},
   "outputs": [
    {
     "data": {
      "text/plain": [
       "0.8764367816091954"
      ]
     },
     "execution_count": 305,
     "metadata": {},
     "output_type": "execute_result"
    }
   ],
   "source": [
    "model=grid.best_estimator_\n",
    "model.score(X_test3,Y_test3)"
   ]
  },
  {
   "cell_type": "markdown",
   "metadata": {},
   "source": [
    "On obtient avec ce model une precision de **86.64** sur le set de test qui est égal au score trouvé plus haut.<br>\n",
    "On peut donc conclure que notre model est valable."
   ]
  }
 ],
 "metadata": {
  "kernelspec": {
   "display_name": "Python 3",
   "language": "python",
   "name": "python3"
  },
  "language_info": {
   "codemirror_mode": {
    "name": "ipython",
    "version": 3
   },
   "file_extension": ".py",
   "mimetype": "text/x-python",
   "name": "python",
   "nbconvert_exporter": "python",
   "pygments_lexer": "ipython3",
   "version": "3.7.7"
  }
 },
 "nbformat": 4,
 "nbformat_minor": 4
}
