{
 "cells": [
  {
   "cell_type": "markdown",
   "metadata": {},
   "source": [
    "\n",
    "\n",
    "\n",
    "# <center> Classification KNN</center>\n",
    "*Goubet Victor<br>\n",
    "Graff Thomas*<br>\n",
    "TD D\n",
    "\n",
    "*Ce document a été rédigé dans le but de garder une trace de ce travail. Il est donc exaustif et retrace toutes les étapes de notre démarche*"
   ]
  },
  {
   "cell_type": "markdown",
   "metadata": {},
   "source": [
    "# Partie I"
   ]
  },
  {
   "cell_type": "markdown",
   "metadata": {},
   "source": [
    "\n",
    "### Prepatation des données\n",
    "On commence par importer les librairies necessaires :"
   ]
  },
  {
   "cell_type": "code",
   "execution_count": 2,
   "metadata": {},
   "outputs": [],
   "source": [
    "import pandas as pd\n",
    "\n",
    "from sklearn import model_selection\n",
    "from sklearn.metrics import confusion_matrix\n",
    "from sklearn import preprocessing\n",
    "\n",
    "import numpy as np\n",
    "import matplotlib.pyplot as plt"
   ]
  },
  {
   "cell_type": "markdown",
   "metadata": {},
   "source": [
    "On importe les données :"
   ]
  },
  {
   "cell_type": "code",
   "execution_count": 3,
   "metadata": {},
   "outputs": [],
   "source": [
    "data= pd.read_csv('data.csv',sep=';',header=None)"
   ]
  },
  {
   "cell_type": "markdown",
   "metadata": {},
   "source": [
    "Ici on stock dans le vecteur X les colonnes correspondant aux classe et dans \n",
    "Y celles correspondant aux etiquettes"
   ]
  },
  {
   "cell_type": "code",
   "execution_count": 4,
   "metadata": {},
   "outputs": [],
   "source": [
    "X=data[data.columns[:-1]].values\n",
    "Y=data[data.columns[-1]].to_numpy()\n",
    "\n",
    "labels_Class=np.unique(Y)"
   ]
  },
  {
   "cell_type": "markdown",
   "metadata": {},
   "source": [
    "On va maintenant normaliser nos donnèes. Cela permettra de réduire l'impact des donnèes erronées. Cela revient donc à diviser nos données par l'ecart type et soustraire la moyenne. Dans un soucis de rapidité on utilise ici le scaler fournis par sklearn."
   ]
  },
  {
   "cell_type": "code",
   "execution_count": 5,
   "metadata": {},
   "outputs": [],
   "source": [
    "std_scale = preprocessing.StandardScaler().fit(X)\n",
    "X_normalize = std_scale.transform(X)"
   ]
  },
  {
   "cell_type": "markdown",
   "metadata": {},
   "source": [
    "On utilise le module Sklearn pour séparer nos données en un jeux d'entrainement et un autre de test. <br>\n",
    "La separation est plus efficace car il procéde à un mélange aléatoire avant de séparer les données. On prend ici 20% des données en données de test."
   ]
  },
  {
   "cell_type": "code",
   "execution_count": 6,
   "metadata": {},
   "outputs": [],
   "source": [
    "X_train, X_test, Y_train, Y_test = model_selection.train_test_split(X_normalize, Y,test_size=0.2,random_state=4871)\n",
    "#On fixe le random state afin d'avoir toujours la même distribution aléatoire"
   ]
  },
  {
   "cell_type": "markdown",
   "metadata": {},
   "source": [
    "### Definition du Model"
   ]
  },
  {
   "cell_type": "code",
   "execution_count": 6,
   "metadata": {},
   "outputs": [],
   "source": [
    "class KNN:\n",
    "    \n",
    "    def __init__(self,k=1):\n",
    "        self.k=k\n",
    "        \n",
    "    def Train(self,X_train,Y_train):\n",
    "        self.X_train=X_train\n",
    "        self.Y_train=Y_train\n",
    "        \n",
    "    def Distance(self,ptTest,ptTrain):\n",
    "        #On commence par définir une fonction de calcul de distance. Ici on choisit la distance euclidienne\n",
    "        distance=0\n",
    "        for k in range(len(ptTrain)):\n",
    "            distance+=(ptTrain[k]-ptTest[k])**2\n",
    "        return np.sqrt(distance)\n",
    "    \n",
    "    \n",
    "    def GetLabel(self,instance):\n",
    "        #On definit la fonction GetLabel permettant de prédir l'étiquette d'une instance\n",
    "        #On récupére la distance de l'instance à chaque point\n",
    "        distances=[self.Distance(instance,x) for x in self.X_train ]\n",
    "        #On récupére les index de la liste triée\n",
    "        indexes=np.argsort(distances)[:self.k]\n",
    "        #On récupére les label triés selon ces indexs\n",
    "        Top_Neighbours=np.array([self.Y_train[i] for i in indexes])\n",
    "\n",
    "        #On renvoie le plus présent\n",
    "        return max(labels_Class,key=lambda x:np.sum(Top_Neighbours==x))\n",
    "\n",
    "    def GetLabels(self,X):\n",
    "        #On récupére ici le label de chaque instance\n",
    "        labels=[self.GetLabel(x) for x in X]\n",
    "        return np.array(labels)\n",
    "    \n",
    "    def Precision(self,X_test,Y_test,MC):\n",
    "        #On compare nos label estimés aux réel labels et on en déduit une precision\n",
    "        labels=self.GetLabels(X_test)\n",
    "        precision=np.sum(labels==Y_test)/len(labels)*100\n",
    "        \n",
    "        #Mode Affichage\n",
    "        if MC:\n",
    "            fig = plt.figure(figsize=(5,5))\n",
    "            ax = fig.add_subplot(111)\n",
    "            im = ax.imshow(confusion_matrix(Y_test,labels))\n",
    "            fig.colorbar(im)\n",
    "            plt.title(\"Matrice de confusion\")\n",
    "            plt.xlabel(\"Predicted\")\n",
    "            plt.ylabel(\"Actual\")\n",
    "        \n",
    "        return precision"
   ]
  },
  {
   "cell_type": "markdown",
   "metadata": {},
   "source": [
    "### Test du model"
   ]
  },
  {
   "cell_type": "markdown",
   "metadata": {},
   "source": [
    "On test notre fonction avec le resultat labels utilisant k=2 <br> On affiche le pourcentage de precision et la matrice de confusion"
   ]
  },
  {
   "cell_type": "code",
   "execution_count": 7,
   "metadata": {},
   "outputs": [
    {
     "data": {
      "text/plain": [
       "86.11111111111111"
      ]
     },
     "execution_count": 7,
     "metadata": {},
     "output_type": "execute_result"
    },
    {
     "data": {
      "image/png": "[encoded data removed]",
      "text/plain": [
       "<Figure size 360x360 with 2 Axes>"
      ]
     },
     "metadata": {
      "needs_background": "light"
     },
     "output_type": "display_data"
    }
   ],
   "source": [
    "model=KNN(2)\n",
    "model.Train(X_train,Y_train)\n",
    "model.Precision(X_test,Y_test,True)"
   ]
  },
  {
   "cell_type": "markdown",
   "metadata": {},
   "source": [
    "En prenant un k aléaoirement on a ici un score de 86.11\n",
    "### Optimisation du model"
   ]
  },
  {
   "cell_type": "markdown",
   "metadata": {},
   "source": [
    "Maintenant que notre modèle est construit et qu'il nous fournit des resultats acceptables, nous pouvons essayer de régler le paramètre k afin d'augmenter notre score.\n",
    "Pour cela on va séparer nos données non pas en deux mais en 3 sets. Un pour l'entrainement, un pour la validation (optimisation de k ) et un dernier pour le test final."
   ]
  },
  {
   "cell_type": "markdown",
   "metadata": {},
   "source": [
    "Cependant, plusieurs découpages de nos donnèes sont possibles pour choisir notre set de validation. On va donc utiliser la méthode de **cross validation** qui permet d'explorer tout les découpages possibles pour notre set et de retourner à chaque fois son score.<br>\n",
    "Ici on va utilise le découpage des **KFolds**"
   ]
  },
  {
   "cell_type": "code",
   "execution_count": 8,
   "metadata": {},
   "outputs": [],
   "source": [
    "def CrossValidation(k,X_train,Y_train,nFolds=5):\n",
    "    scoresValidation=[]\n",
    "    \n",
    "    model=KNN(k)\n",
    "    #On découpe en n folds notre data set\n",
    "    X_Splits=np.array_split(X_train,nFolds)\n",
    "    Y_Splits=np.array_split(Y_train,nFolds)\n",
    "    \n",
    "    #Pour chaque fold on va mettre à jour le set d'entrainement et de validation et on va calculer le score\n",
    "    for i in range(nFolds):\n",
    "        print(\"\\nCalcul du fold n°(\",i+1,\"/\",nFolds,\")..\")\n",
    "        X_validation=X_Splits[i]\n",
    "        Y_validation=Y_Splits[i]\n",
    "        X_newTrain=np.concatenate(np.delete(X_Splits,i,0))\n",
    "        Y_newTrain=np.concatenate(np.delete(Y_Splits,i,0))\n",
    "        \n",
    "        model.Train(X_newTrain,Y_newTrain)\n",
    "        scoresValidation.append(model.Precision(X_validation,Y_validation,False))\n",
    "        \n",
    "    #On renvoi le tableau des scores\n",
    "    return np.array(scoresValidation)\n",
    "        \n",
    "        "
   ]
  },
  {
   "cell_type": "markdown",
   "metadata": {},
   "source": [
    "On peut maintenant tester notre methode pour k=2 et 5 folds"
   ]
  },
  {
   "cell_type": "code",
   "execution_count": 9,
   "metadata": {},
   "outputs": [
    {
     "name": "stdout",
     "output_type": "stream",
     "text": [
      "\n",
      "Calcul du fold n°( 1 / 5 )..\n",
      "\n",
      "Calcul du fold n°( 2 / 5 )..\n",
      "\n",
      "Calcul du fold n°( 3 / 5 )..\n",
      "\n",
      "Calcul du fold n°( 4 / 5 )..\n",
      "\n",
      "Calcul du fold n°( 5 / 5 )..\n",
      "\n",
      "Score sur le set de validation pour chaque fold :\n",
      " [83.51409978 85.90021692 84.13043478 86.30434783 83.91304348]\n",
      "\n",
      "Moyenne des scores: 84.7524285579553\n"
     ]
    }
   ],
   "source": [
    "scoresValidation=CrossValidation(2,X_train,Y_train)\n",
    "print(\"\\nScore sur le set de validation pour chaque fold :\\n\",scoresValidation)\n",
    "print(\"\\nMoyenne des scores:\",scoresValidation.mean())"
   ]
  },
  {
   "cell_type": "markdown",
   "metadata": {},
   "source": [
    "Nous sommes maintenant prêt à tester pour differents valeures de k <br> On va tracer le score sur le set de validation en fonction de k. "
   ]
  },
  {
   "cell_type": "code",
   "execution_count": 10,
   "metadata": {},
   "outputs": [],
   "source": [
    "\n",
    "def Optimise(listeK,X_train,Y_train):\n",
    "    scoresValidation=[]\n",
    "    \n",
    "    #On applique pour chaque k la méthode de validation croisée\n",
    "    for k in listeK:\n",
    "        print(\"===========================Test k=\",k,\"==================================\")\n",
    "        \n",
    "        #On prend ici la moyenne des scores de chaque fold\n",
    "        accuracy=CrossValidation(k,X_train,Y_train,5).mean()\n",
    "        scoresValidation.append(accuracy)\n",
    "        print(\"\\n→ Accuracy =\",accuracy)\n",
    "    return scoresValidation\n",
    "    "
   ]
  },
  {
   "cell_type": "markdown",
   "metadata": {},
   "source": [
    "On applique notre fonction pour k entre 1 et 14 et on trace le resultat."
   ]
  },
  {
   "cell_type": "code",
   "execution_count": 11,
   "metadata": {},
   "outputs": [
    {
     "name": "stdout",
     "output_type": "stream",
     "text": [
      "===========================Test k= 1 ==================================\n",
      "\n",
      "Calcul du fold n°( 1 / 5 )..\n",
      "\n",
      "Calcul du fold n°( 2 / 5 )..\n",
      "\n",
      "Calcul du fold n°( 3 / 5 )..\n",
      "\n",
      "Calcul du fold n°( 4 / 5 )..\n",
      "\n",
      "Calcul du fold n°( 5 / 5 )..\n",
      "\n",
      "→ Accuracy = 84.40450815806847\n",
      "===========================Test k= 2 ==================================\n",
      "\n",
      "Calcul du fold n°( 1 / 5 )..\n",
      "\n",
      "Calcul du fold n°( 2 / 5 )..\n",
      "\n",
      "Calcul du fold n°( 3 / 5 )..\n",
      "\n",
      "Calcul du fold n°( 4 / 5 )..\n",
      "\n",
      "Calcul du fold n°( 5 / 5 )..\n",
      "\n",
      "→ Accuracy = 84.7524285579553\n",
      "===========================Test k= 3 ==================================\n",
      "\n",
      "Calcul du fold n°( 1 / 5 )..\n",
      "\n",
      "Calcul du fold n°( 2 / 5 )..\n",
      "\n",
      "Calcul du fold n°( 3 / 5 )..\n",
      "\n",
      "Calcul du fold n°( 4 / 5 )..\n",
      "\n",
      "Calcul du fold n°( 5 / 5 )..\n",
      "\n",
      "→ Accuracy = 84.7524285579553\n",
      "===========================Test k= 4 ==================================\n",
      "\n",
      "Calcul du fold n°( 1 / 5 )..\n",
      "\n",
      "Calcul du fold n°( 2 / 5 )..\n",
      "\n",
      "Calcul du fold n°( 3 / 5 )..\n",
      "\n",
      "Calcul du fold n°( 4 / 5 )..\n",
      "\n",
      "Calcul du fold n°( 5 / 5 )..\n",
      "\n",
      "→ Accuracy = 85.92492690747902\n",
      "===========================Test k= 5 ==================================\n",
      "\n",
      "Calcul du fold n°( 1 / 5 )..\n",
      "\n",
      "Calcul du fold n°( 2 / 5 )..\n",
      "\n",
      "Calcul du fold n°( 3 / 5 )..\n",
      "\n",
      "Calcul du fold n°( 4 / 5 )..\n",
      "\n",
      "Calcul du fold n°( 5 / 5 )..\n",
      "\n",
      "→ Accuracy = 85.96831085541828\n",
      "===========================Test k= 6 ==================================\n",
      "\n",
      "Calcul du fold n°( 1 / 5 )..\n",
      "\n",
      "Calcul du fold n°( 2 / 5 )..\n",
      "\n",
      "Calcul du fold n°( 3 / 5 )..\n",
      "\n",
      "Calcul du fold n°( 4 / 5 )..\n",
      "\n",
      "Calcul du fold n°( 5 / 5 )..\n",
      "\n",
      "→ Accuracy = 85.92483259454872\n",
      "===========================Test k= 7 ==================================\n",
      "\n",
      "Calcul du fold n°( 1 / 5 )..\n",
      "\n",
      "Calcul du fold n°( 2 / 5 )..\n",
      "\n",
      "Calcul du fold n°( 3 / 5 )..\n",
      "\n",
      "Calcul du fold n°( 4 / 5 )..\n",
      "\n",
      "Calcul du fold n°( 5 / 5 )..\n",
      "\n",
      "→ Accuracy = 86.2718098651325\n",
      "===========================Test k= 8 ==================================\n",
      "\n",
      "Calcul du fold n°( 1 / 5 )..\n",
      "\n",
      "Calcul du fold n°( 2 / 5 )..\n",
      "\n",
      "Calcul du fold n°( 3 / 5 )..\n",
      "\n",
      "Calcul du fold n°( 4 / 5 )..\n",
      "\n",
      "Calcul du fold n°( 5 / 5 )..\n",
      "\n",
      "→ Accuracy = 86.40281052532302\n",
      "===========================Test k= 9 ==================================\n",
      "\n",
      "Calcul du fold n°( 1 / 5 )..\n",
      "\n",
      "Calcul du fold n°( 2 / 5 )..\n",
      "\n",
      "Calcul du fold n°( 3 / 5 )..\n",
      "\n",
      "Calcul du fold n°( 4 / 5 )..\n",
      "\n",
      "Calcul du fold n°( 5 / 5 )..\n",
      "\n",
      "→ Accuracy = 86.31547675186269\n",
      "===========================Test k= 10 ==================================\n",
      "\n",
      "Calcul du fold n°( 1 / 5 )..\n",
      "\n",
      "Calcul du fold n°( 2 / 5 )..\n",
      "\n",
      "Calcul du fold n°( 3 / 5 )..\n",
      "\n",
      "Calcul du fold n°( 4 / 5 )..\n",
      "\n",
      "Calcul du fold n°( 5 / 5 )..\n",
      "\n",
      "→ Accuracy = 86.01131755163632\n",
      "===========================Test k= 11 ==================================\n",
      "\n",
      "Calcul du fold n°( 1 / 5 )..\n",
      "\n",
      "Calcul du fold n°( 2 / 5 )..\n",
      "\n",
      "Calcul du fold n°( 3 / 5 )..\n",
      "\n",
      "Calcul du fold n°( 4 / 5 )..\n",
      "\n",
      "Calcul du fold n°( 5 / 5 )..\n",
      "\n",
      "→ Accuracy = 85.75035367348865\n",
      "===========================Test k= 12 ==================================\n",
      "\n",
      "Calcul du fold n°( 1 / 5 )..\n",
      "\n",
      "Calcul du fold n°( 2 / 5 )..\n",
      "\n",
      "Calcul du fold n°( 3 / 5 )..\n",
      "\n",
      "Calcul du fold n°( 4 / 5 )..\n",
      "\n",
      "Calcul du fold n°( 5 / 5 )..\n",
      "\n",
      "→ Accuracy = 85.75054229934923\n",
      "===========================Test k= 13 ==================================\n",
      "\n",
      "Calcul du fold n°( 1 / 5 )..\n",
      "\n",
      "Calcul du fold n°( 2 / 5 )..\n",
      "\n",
      "Calcul du fold n°( 3 / 5 )..\n",
      "\n",
      "Calcul du fold n°( 4 / 5 )..\n",
      "\n",
      "Calcul du fold n°( 5 / 5 )..\n",
      "\n",
      "→ Accuracy = 85.70715835140997\n",
      "===========================Test k= 14 ==================================\n",
      "\n",
      "Calcul du fold n°( 1 / 5 )..\n",
      "\n",
      "Calcul du fold n°( 2 / 5 )..\n",
      "\n",
      "Calcul du fold n°( 3 / 5 )..\n",
      "\n",
      "Calcul du fold n°( 4 / 5 )..\n",
      "\n",
      "Calcul du fold n°( 5 / 5 )..\n",
      "\n",
      "→ Accuracy = 85.66405734226163\n"
     ]
    }
   ],
   "source": [
    "listeK=range(1,15)\n",
    "scoresValidation=Optimise(listeK,X_train,Y_train)"
   ]
  },
  {
   "cell_type": "code",
   "execution_count": 12,
   "metadata": {},
   "outputs": [
    {
     "data": {
      "image/png": "[encoded data removed]",
      "text/plain": [
       "<Figure size 432x288 with 1 Axes>"
      ]
     },
     "metadata": {
      "needs_background": "light"
     },
     "output_type": "display_data"
    }
   ],
   "source": [
    "plt.plot(listeK,scoresValidation)\n",
    "plt.title(\"Score en fonction de k\")\n",
    "plt.ylabel(\"Score\")\n",
    "plt.xlabel(\"K\")\n",
    "plt.grid()"
   ]
  },
  {
   "cell_type": "markdown",
   "metadata": {},
   "source": [
    "On peut voir ici que l'on obtient des scores haut pour k=7-8-9. Cependant un k pair peu mener à des votes égalitaires. On choisit donc k=9 qui est légérement plus haut que k=7.\n",
    "### Test final"
   ]
  },
  {
   "cell_type": "code",
   "execution_count": 13,
   "metadata": {},
   "outputs": [
    {
     "data": {
      "text/plain": [
       "88.36805555555556"
      ]
     },
     "execution_count": 13,
     "metadata": {},
     "output_type": "execute_result"
    },
    {
     "data": {
      "image/png": "[encoded data removed]",
      "text/plain": [
       "<Figure size 360x360 with 2 Axes>"
      ]
     },
     "metadata": {
      "needs_background": "light"
     },
     "output_type": "display_data"
    }
   ],
   "source": [
    "model=KNN(9)\n",
    "model.Train(X_train,Y_train)\n",
    "model.Precision(X_test,Y_test,True)"
   ]
  },
  {
   "cell_type": "markdown",
   "metadata": {},
   "source": [
    "On obtient finalement un score de **88.37**."
   ]
  },
  {
   "cell_type": "markdown",
   "metadata": {},
   "source": [
    "### Ameliorations\n",
    "\n",
    "Une première amélioration serait d'optimiser les calculs afins qu'ils soient plus rapides.Plusieurs techniques ont déja été imaginées comme l'utilisation d'une ACP pour réduire le nombre de dimensions pour la distance ou encore utiliser des arbres de recherche pour trouver des \"presques voisin\"<br>\n",
    "Une deuxième amélioration non nègligeable serait d'optimiser un deuxième hyper paramètre qui est le calcul de la distance en utilisant par exemple une distance discriminante avec des poids comme celle de mahalanobis. Cependant cela reviendrait à chercher la solution dans une grille (distance en ligne et k en colonne) soit environs 5x15 possibilitées (5 types de distance et on test 15 k) ce qui prendrait enormement de temps avec une version non optimisée.<br> On revient donc à la première amélioration.."
   ]
  },
  {
   "cell_type": "markdown",
   "metadata": {},
   "source": [
    "# Partie II\n",
    "Nous avons maintenant un deuxième dataset à diposition. Nous avons choisit d'utiliser ce dataset afin d'agrandir nos données d'aprentissage. En effet un plus grand nombre de données d'entrainement améliorera la precision de notre model (on peut d'ailleurs le voir sur les learning curve avec sklearn). <br> Dans un premier temps nous allons tester notre model sur ces datas voir si tout se passe bien, puis, nous fusionnerons les deux datasets et nous l'entrainerons avec ces nouvelles données."
   ]
  },
  {
   "cell_type": "markdown",
   "metadata": {},
   "source": [
    "### Test sur le nouveau dataset"
   ]
  },
  {
   "cell_type": "markdown",
   "metadata": {},
   "source": [
    "*on prépare nos donnèes*"
   ]
  },
  {
   "cell_type": "code",
   "execution_count": 7,
   "metadata": {},
   "outputs": [],
   "source": [
    "data2= pd.read_csv('preTest.csv',sep=';',header=None) #On charge\n",
    "\n",
    "#On sépare les etiquettes\n",
    "X2=data2[data2.columns[:-1]].values\n",
    "Y2=data2[data2.columns[-1]].to_numpy()\n",
    "\n",
    "#On normalise\n",
    "std_scale2 = preprocessing.StandardScaler().fit(X2)\n",
    "X2_normalize = std_scale2.transform(X2)"
   ]
  },
  {
   "cell_type": "markdown",
   "metadata": {},
   "source": [
    "On regarde le score pour notre nouveau dataSet."
   ]
  },
  {
   "cell_type": "code",
   "execution_count": 15,
   "metadata": {},
   "outputs": [
    {
     "data": {
      "text/plain": [
       "88.33333333333333"
      ]
     },
     "execution_count": 15,
     "metadata": {},
     "output_type": "execute_result"
    },
    {
     "data": {
      "image/png": "[encoded data removed]",
      "text/plain": [
       "<Figure size 360x360 with 2 Axes>"
      ]
     },
     "metadata": {
      "needs_background": "light"
     },
     "output_type": "display_data"
    }
   ],
   "source": [
    "model2=KNN(9)\n",
    "model2.Train(X_normalize,Y)\n",
    "model2.Precision(X2_normalize,Y2,True)"
   ]
  },
  {
   "cell_type": "markdown",
   "metadata": {},
   "source": [
    "On obtient ici avec le model optimisé un score de **88.33**. Tout semble donc marcher.<br>\n",
    "On a ici \"fité\" nos données sur l'entièreté du premier dataset afin d'avoir plus de données d'entrainement. Cela a permis d'avoir un score légérement meilleur et garanti donc que nous ne subissons pas de phénoméne de **double descent**.\n",
    "### Fusion des dataSets\n",
    "Fusionnons maintenant les datasets afin d'augmenter encore notre precision d'optimisation"
   ]
  },
  {
   "cell_type": "code",
   "execution_count": 8,
   "metadata": {},
   "outputs": [],
   "source": [
    "X3_normalize=np.concatenate([X_normalize,X2_normalize])\n",
    "Y3=np.concatenate([Y,Y2])\n",
    "\n",
    "X_train3, X_test3, Y_train3, Y_test3 = model_selection.train_test_split(X3_normalize, Y3,test_size=0.2,random_state=4871)"
   ]
  },
  {
   "cell_type": "markdown",
   "metadata": {},
   "source": [
    "On ré-optimise le model avec le nouveau set d'entrainement agrandit"
   ]
  },
  {
   "cell_type": "code",
   "execution_count": 17,
   "metadata": {},
   "outputs": [
    {
     "name": "stdout",
     "output_type": "stream",
     "text": [
      "===========================Test k= 1 ==================================\n",
      "\n",
      "Calcul du fold n°( 1 / 5 )..\n",
      "\n",
      "Calcul du fold n°( 2 / 5 )..\n",
      "\n",
      "Calcul du fold n°( 3 / 5 )..\n",
      "\n",
      "Calcul du fold n°( 4 / 5 )..\n",
      "\n",
      "Calcul du fold n°( 5 / 5 )..\n",
      "\n",
      "→ Accuracy = 85.44269790630692\n",
      "===========================Test k= 2 ==================================\n",
      "\n",
      "Calcul du fold n°( 1 / 5 )..\n",
      "\n",
      "Calcul du fold n°( 2 / 5 )..\n",
      "\n",
      "Calcul du fold n°( 3 / 5 )..\n",
      "\n",
      "Calcul du fold n°( 4 / 5 )..\n",
      "\n",
      "Calcul du fold n°( 5 / 5 )..\n",
      "\n",
      "→ Accuracy = 84.97526574790437\n",
      "===========================Test k= 3 ==================================\n",
      "\n",
      "Calcul du fold n°( 1 / 5 )..\n",
      "\n",
      "Calcul du fold n°( 2 / 5 )..\n",
      "\n",
      "Calcul du fold n°( 3 / 5 )..\n",
      "\n",
      "Calcul du fold n°( 4 / 5 )..\n",
      "\n",
      "Calcul du fold n°( 5 / 5 )..\n",
      "\n",
      "→ Accuracy = 86.05311083269828\n",
      "===========================Test k= 4 ==================================\n",
      "\n",
      "Calcul du fold n°( 1 / 5 )..\n",
      "\n",
      "Calcul du fold n°( 2 / 5 )..\n",
      "\n",
      "Calcul du fold n°( 3 / 5 )..\n",
      "\n",
      "Calcul du fold n°( 4 / 5 )..\n",
      "\n",
      "Calcul du fold n°( 5 / 5 )..\n",
      "\n",
      "→ Accuracy = 86.26906733141314\n",
      "===========================Test k= 5 ==================================\n",
      "\n",
      "Calcul du fold n°( 1 / 5 )..\n",
      "\n",
      "Calcul du fold n°( 2 / 5 )..\n",
      "\n",
      "Calcul du fold n°( 3 / 5 )..\n",
      "\n",
      "Calcul du fold n°( 4 / 5 )..\n",
      "\n",
      "Calcul du fold n°( 5 / 5 )..\n",
      "\n",
      "→ Accuracy = 86.98797514950338\n",
      "===========================Test k= 6 ==================================\n",
      "\n",
      "Calcul du fold n°( 1 / 5 )..\n",
      "\n",
      "Calcul du fold n°( 2 / 5 )..\n",
      "\n",
      "Calcul du fold n°( 3 / 5 )..\n",
      "\n",
      "Calcul du fold n°( 4 / 5 )..\n",
      "\n",
      "Calcul du fold n°( 5 / 5 )..\n",
      "\n",
      "→ Accuracy = 86.87999690014597\n",
      "===========================Test k= 7 ==================================\n",
      "\n",
      "Calcul du fold n°( 1 / 5 )..\n",
      "\n",
      "Calcul du fold n°( 2 / 5 )..\n",
      "\n",
      "Calcul du fold n°( 3 / 5 )..\n",
      "\n",
      "Calcul du fold n°( 4 / 5 )..\n",
      "\n",
      "Calcul du fold n°( 5 / 5 )..\n",
      "\n",
      "→ Accuracy = 87.09575965798277\n",
      "===========================Test k= 8 ==================================\n",
      "\n",
      "Calcul du fold n°( 1 / 5 )..\n",
      "\n",
      "Calcul du fold n°( 2 / 5 )..\n",
      "\n",
      "Calcul du fold n°( 3 / 5 )..\n",
      "\n",
      "Calcul du fold n°( 4 / 5 )..\n",
      "\n",
      "Calcul du fold n°( 5 / 5 )..\n",
      "\n",
      "→ Accuracy = 87.2037379073402\n",
      "===========================Test k= 9 ==================================\n",
      "\n",
      "Calcul du fold n°( 1 / 5 )..\n",
      "\n",
      "Calcul du fold n°( 2 / 5 )..\n",
      "\n",
      "Calcul du fold n°( 3 / 5 )..\n",
      "\n",
      "Calcul du fold n°( 4 / 5 )..\n",
      "\n",
      "Calcul du fold n°( 5 / 5 )..\n",
      "\n",
      "→ Accuracy = 87.02401095281763\n",
      "===========================Test k= 10 ==================================\n",
      "\n",
      "Calcul du fold n°( 1 / 5 )..\n",
      "\n",
      "Calcul du fold n°( 2 / 5 )..\n",
      "\n",
      "Calcul du fold n°( 3 / 5 )..\n",
      "\n",
      "Calcul du fold n°( 4 / 5 )..\n",
      "\n",
      "Calcul du fold n°( 5 / 5 )..\n",
      "\n",
      "→ Accuracy = 86.95239140823786\n",
      "===========================Test k= 11 ==================================\n",
      "\n",
      "Calcul du fold n°( 1 / 5 )..\n",
      "\n",
      "Calcul du fold n°( 2 / 5 )..\n",
      "\n",
      "Calcul du fold n°( 3 / 5 )..\n",
      "\n",
      "Calcul du fold n°( 4 / 5 )..\n",
      "\n",
      "Calcul du fold n°( 5 / 5 )..\n",
      "\n",
      "→ Accuracy = 86.73617658835231\n",
      "===========================Test k= 12 ==================================\n",
      "\n",
      "Calcul du fold n°( 1 / 5 )..\n",
      "\n",
      "Calcul du fold n°( 2 / 5 )..\n",
      "\n",
      "Calcul du fold n°( 3 / 5 )..\n",
      "\n",
      "Calcul du fold n°( 4 / 5 )..\n",
      "\n",
      "Calcul du fold n°( 5 / 5 )..\n",
      "\n",
      "→ Accuracy = 86.592485437144\n",
      "===========================Test k= 13 ==================================\n",
      "\n",
      "Calcul du fold n°( 1 / 5 )..\n",
      "\n",
      "Calcul du fold n°( 2 / 5 )..\n",
      "\n",
      "Calcul du fold n°( 3 / 5 )..\n",
      "\n",
      "Calcul du fold n°( 4 / 5 )..\n",
      "\n",
      "Calcul du fold n°( 5 / 5 )..\n",
      "\n",
      "→ Accuracy = 86.70020536533072\n",
      "===========================Test k= 14 ==================================\n",
      "\n",
      "Calcul du fold n°( 1 / 5 )..\n",
      "\n",
      "Calcul du fold n°( 2 / 5 )..\n",
      "\n",
      "Calcul du fold n°( 3 / 5 )..\n",
      "\n",
      "Calcul du fold n°( 4 / 5 )..\n",
      "\n",
      "Calcul du fold n°( 5 / 5 )..\n",
      "\n",
      "→ Accuracy = 86.6283920798729\n"
     ]
    }
   ],
   "source": [
    "scoresValidation3=Optimise(listeK,X_train3,Y_train3)"
   ]
  },
  {
   "cell_type": "code",
   "execution_count": 18,
   "metadata": {},
   "outputs": [
    {
     "data": {
      "image/png": "[encoded data removed]",
      "text/plain": [
       "<Figure size 432x288 with 1 Axes>"
      ]
     },
     "metadata": {
      "needs_background": "light"
     },
     "output_type": "display_data"
    }
   ],
   "source": [
    "plt.plot(listeK,scoresValidation3)\n",
    "plt.title(\"Score en fonction de k\")\n",
    "plt.ylabel(\"Score\")\n",
    "plt.xlabel(\"K\")\n",
    "plt.grid()"
   ]
  },
  {
   "cell_type": "markdown",
   "metadata": {},
   "source": [
    "On voit ici qu'avec plus de données, le réglage k=7 semble plus optimal que k=9 (on ignore toujours k=8 car il est pair). <br>\n",
    "On va donc prendre cette valeure."
   ]
  },
  {
   "cell_type": "code",
   "execution_count": 19,
   "metadata": {},
   "outputs": [
    {
     "data": {
      "text/plain": [
       "87.5"
      ]
     },
     "execution_count": 19,
     "metadata": {},
     "output_type": "execute_result"
    },
    {
     "data": {
      "image/png": "[encoded data removed]",
      "text/plain": [
       "<Figure size 360x360 with 2 Axes>"
      ]
     },
     "metadata": {
      "needs_background": "light"
     },
     "output_type": "display_data"
    }
   ],
   "source": [
    "model3=KNN(7)\n",
    "model3.Train(X_train3,Y_train3)\n",
    "model3.Precision(X_test3,Y_test3,True)"
   ]
  },
  {
   "cell_type": "markdown",
   "metadata": {},
   "source": [
    "On obtient alors sur notre set de test un score de **87.5** "
   ]
  },
  {
   "cell_type": "markdown",
   "metadata": {},
   "source": [
    "# Partie III\n",
    "Nous allons maintenant tester notre model sur un dataset inconnu dont on ne connait pas les etiquettes.<br>\n",
    "On va commencer par importer les donnèes: "
   ]
  },
  {
   "cell_type": "code",
   "execution_count": 30,
   "metadata": {},
   "outputs": [],
   "source": [
    "datafinal= pd.read_csv('finalTest.csv',sep=';',header=None)\n",
    "Xfinal=datafinal.values\n",
    "\n",
    "std_scaleFinal = preprocessing.StandardScaler().fit(Xfinal)\n",
    "Xfinal_normalize = std_scaleFinal.transform(Xfinal)"
   ]
  },
  {
   "cell_type": "markdown",
   "metadata": {},
   "source": [
    "On définit ensuite notre model final en lui donnant la totalité des données du dataset 1 et 2 comme données d'entrainement pour les mêmes raisons qu'énoncées plus haut."
   ]
  },
  {
   "cell_type": "code",
   "execution_count": 31,
   "metadata": {},
   "outputs": [],
   "source": [
    "modelFinal=KNN(7)\n",
    "modelFinal.Train(X3_normalize,Y3)"
   ]
  },
  {
   "cell_type": "markdown",
   "metadata": {},
   "source": [
    "### Enregistrement des labels\n",
    "On enregistre les labels dans un fichier texte"
   ]
  },
  {
   "cell_type": "code",
   "execution_count": 32,
   "metadata": {},
   "outputs": [],
   "source": [
    "def Save(labels):\n",
    "    with open(\"GOUBET_GRAFF.txt\",'w') as f:\n",
    "        for label in labels:\n",
    "            f.write(label+\"\\n\")"
   ]
  },
  {
   "cell_type": "code",
   "execution_count": 33,
   "metadata": {},
   "outputs": [],
   "source": [
    "labels=modelFinal.GetLabels(Xfinal_normalize)\n",
    "Save(labels)"
   ]
  },
  {
   "cell_type": "markdown",
   "metadata": {},
   "source": [
    "# Comparaison avec le model de Sklearn\n",
    "\n",
    "### Optimisation de k"
   ]
  },
  {
   "cell_type": "code",
   "execution_count": 9,
   "metadata": {},
   "outputs": [],
   "source": [
    "from sklearn.model_selection  import validation_curve\n",
    "from sklearn.neighbors import KNeighborsClassifier"
   ]
  },
  {
   "cell_type": "markdown",
   "metadata": {},
   "source": [
    "On utilise ici le model KNN et la cross validation fournis par Sklearn."
   ]
  },
  {
   "cell_type": "code",
   "execution_count": 12,
   "metadata": {},
   "outputs": [],
   "source": [
    "#On définit le model\n",
    "model=KNeighborsClassifier()\n",
    "#Pour chaque k, on récupère les scores sur le set d'entrainement et de validation\n",
    "interval=np.arange(1,30)\n",
    "ScoreTrain,ScoreValidation=validation_curve(model,X_train3,Y_train3,'n_neighbors',interval,cv=5)\n",
    "#On ne garde que les moyennes (comme expliqué plus haut)\n",
    "ScoreValidation_Mean=ScoreValidation.mean(axis=1)\n",
    "ScoreTrain_Mean=ScoreTrain.mean(axis=1)"
   ]
  },
  {
   "cell_type": "code",
   "execution_count": 13,
   "metadata": {
    "scrolled": true
   },
   "outputs": [
    {
     "data": {
      "image/png": "[encoded data removed]",
      "text/plain": [
       "<Figure size 432x288 with 1 Axes>"
      ]
     },
     "metadata": {
      "needs_background": "light"
     },
     "output_type": "display_data"
    }
   ],
   "source": [
    "plt.plot(interval,ScoreValidation_Mean,label='Validation set')\n",
    "plt.plot(interval,ScoreTrain_Mean,label='Training set')\n",
    "plt.legend()\n",
    "plt.title(\"Score en fonction de k\")\n",
    "plt.ylabel(\"Score\")\n",
    "plt.xlabel(\"K\")\n",
    "plt.ylim(0.85,0.9)\n",
    "plt.grid()\n",
    "plt.show()"
   ]
  },
  {
   "cell_type": "markdown",
   "metadata": {},
   "source": [
    "- On a également tracé ici la courbe de score pour le training set. Cela nous permet de repérer les zones de suraprentissage (grand score sur le train et faible sur le validation), typiquement pour k< 5 ici.\n",
    "- On obtient donc ici k=7"
   ]
  },
  {
   "cell_type": "markdown",
   "metadata": {},
   "source": [
    "\n",
    "\n",
    "### GridSearch\n",
    "On va ici utiliser la méthode grid search qui procède toujours par cross validation mais qui va également optimiser tout les autres hypers parmètres (ici k et distances)."
   ]
  },
  {
   "cell_type": "code",
   "execution_count": 14,
   "metadata": {},
   "outputs": [],
   "source": [
    "from sklearn.model_selection import GridSearchCV"
   ]
  },
  {
   "cell_type": "code",
   "execution_count": 15,
   "metadata": {
    "scrolled": true
   },
   "outputs": [
    {
     "name": "stdout",
     "output_type": "stream",
     "text": [
      "{'metric': 'euclidean', 'n_neighbors': 7}\n"
     ]
    }
   ],
   "source": [
    "#On teste ici pour 5 distances\n",
    "V1=np.cov(X_train3.T)\n",
    "V2=V1.diagonal()\n",
    "\n",
    "paramétres = [\n",
    "    {'n_neighbors':interval , 'metric': ['euclidean', 'minkowski','chebyshev']},\n",
    "    \n",
    "    {'n_neighbors': interval,'algorithm':['brute'], 'metric': ['mahalanobis'],'metric_params': [{'V':V1 }]},\n",
    "    {'n_neighbors': interval,'algorithm':['brute'], 'metric': ['seuclidean'],'metric_params': [{'V':V2 }]}\n",
    "]\n",
    "\n",
    "#Le model etant ici plus performant on peu se permettre de spliter en 10 plutot qu'en 5\n",
    "grid=GridSearchCV(KNeighborsClassifier(),paramétres,cv=10)\n",
    "grid.fit(X_train3,Y_train3)\n",
    "print(grid.best_params_)"
   ]
  },
  {
   "cell_type": "markdown",
   "metadata": {},
   "source": [
    "On s'aperçoit qu'ici la distance euclidienne est la plus efficace et que k=7 reste donc la meilleure option. On trouve donc le même k trouvé plus haut.<br>\n",
    "On remarque d'ailleurs que l'on a bien fait de ne pas choisir une distance avec des poids comme mahalanobis qui pourtant parait plus performante de part sa discrimination des points éloignés et non similaires mais qui pourtant apporte un moins bon score."
   ]
  },
  {
   "cell_type": "code",
   "execution_count": 16,
   "metadata": {},
   "outputs": [
    {
     "data": {
      "text/plain": [
       "0.875"
      ]
     },
     "execution_count": 16,
     "metadata": {},
     "output_type": "execute_result"
    }
   ],
   "source": [
    "model=grid.best_estimator_\n",
    "model.score(X_test3,Y_test3)"
   ]
  },
  {
   "cell_type": "markdown",
   "metadata": {},
   "source": [
    "On obtient avec ce model une precision de **87.5** sur le set de test qui est égal au score trouvé plus haut.<br>\n",
    "On peut donc conclure que notre model est valable."
   ]
  }
 ],
 "metadata": {
  "kernelspec": {
   "display_name": "Python 3",
   "language": "python",
   "name": "python3"
  },
  "language_info": {
   "codemirror_mode": {
    "name": "ipython",
    "version": 3
   },
   "file_extension": ".py",
   "mimetype": "text/x-python",
   "name": "python",
   "nbconvert_exporter": "python",
   "pygments_lexer": "ipython3",
   "version": "3.7.7"
  }
 },
 "nbformat": 4,
 "nbformat_minor": 4
}
